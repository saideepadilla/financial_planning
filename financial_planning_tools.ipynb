{
 "cells": [
  {
   "cell_type": "code",
   "execution_count": 1,
   "metadata": {},
   "outputs": [],
   "source": [
    "#pip install python-dotenv\n"
   ]
  },
  {
   "cell_type": "code",
   "execution_count": 2,
   "metadata": {},
   "outputs": [],
   "source": [
    "#pip install alpaca-trade-api"
   ]
  },
  {
   "cell_type": "markdown",
   "metadata": {},
   "source": [
    "# Financial Planning with APIs and Simulations\n",
    "\n",
    "In this Challenge, you’ll create two financial analysis tools by using a single Jupyter notebook:\n",
    "\n",
    "Part 1: A financial planner for emergencies. The members will be able to use this tool to visualize their current savings. The members can then determine if they have enough reserves for an emergency fund.\n",
    "\n",
    "Part 2: A financial planner for retirement. This tool will forecast the performance of their retirement portfolio in 30 years. To do this, the tool will make an Alpaca API call via the Alpaca SDK to get historical price data for use in Monte Carlo simulations.\n",
    "\n",
    "You’ll use the information from the Monte Carlo simulation to answer questions about the portfolio in your Jupyter notebook.\n",
    "\n"
   ]
  },
  {
   "cell_type": "code",
   "execution_count": 3,
   "metadata": {},
   "outputs": [],
   "source": [
    "# Import the required libraries and dependencies\n",
    "import os\n",
    "import requests\n",
    "import json\n",
    "import pandas as pd\n",
    "from dotenv import load_dotenv\n",
    "import alpaca_trade_api as tradeapi\n",
    "from MCForecastTools import MCSimulation\n",
    "\n",
    "%matplotlib inline"
   ]
  },
  {
   "cell_type": "code",
   "execution_count": 4,
   "metadata": {},
   "outputs": [
    {
     "data": {
      "text/plain": [
       "True"
      ]
     },
     "execution_count": 4,
     "metadata": {},
     "output_type": "execute_result"
    }
   ],
   "source": [
    "# Load the environment variables from the .env file\n",
    "#by calling the load_dotenv function\n",
    "load_dotenv()"
   ]
  },
  {
   "cell_type": "code",
   "execution_count": 5,
   "metadata": {},
   "outputs": [],
   "source": [
    "## Part 1: Create a Financial Planner for Emergencies"
   ]
  },
  {
   "cell_type": "markdown",
   "metadata": {},
   "source": [
    "### Evaluate the Cryptocurrency Wallet by Using the Requests Library\n",
    "\n",
    "In this section, you’ll determine the current value of a member’s cryptocurrency wallet. You’ll collect the current prices for the Bitcoin and Ethereum cryptocurrencies by using the Python Requests library. For the prototype, you’ll assume that the member holds the 1.2 Bitcoins (BTC) and 5.3 Ethereum coins (ETH). To do all this, complete the following steps:\n",
    "\n",
    "1. Create a variable named `monthly_income`, and set its value to `12000`.\n",
    "\n",
    "2. Use the Requests library to get the current price (in US dollars) of Bitcoin (BTC) and Ethereum (ETH) by using the API endpoints that the starter code supplies.\n",
    "\n",
    "3. Navigate the JSON response object to access the current price of each coin, and store each in a variable.\n",
    "\n",
    "    > **Hint** Note the specific identifier for each cryptocurrency in the API JSON response. The Bitcoin identifier is `1`, and the Ethereum identifier is `1027`.\n",
    "\n",
    "4. Calculate the value, in US dollars, of the current amount of each cryptocurrency and of the entire cryptocurrency wallet.\n",
    "\n"
   ]
  },
  {
   "cell_type": "code",
   "execution_count": 6,
   "metadata": {},
   "outputs": [],
   "source": [
    "# The current number of coins for each cryptocurrency asset held in the portfolio.\n",
    "btc_coins = 1.2\n",
    "eth_coins = 5.3"
   ]
  },
  {
   "cell_type": "markdown",
   "metadata": {},
   "source": [
    "#### Step 1: Create a variable named `monthly_income`, and set its value to `12000`."
   ]
  },
  {
   "cell_type": "code",
   "execution_count": 7,
   "metadata": {},
   "outputs": [],
   "source": [
    "# The monthly amount for the member's household income\n",
    "monthly_income=12000\n"
   ]
  },
  {
   "cell_type": "markdown",
   "metadata": {},
   "source": [
    "#### Review the endpoint URLs for the API calls to Free Crypto API in order to get the current pricing information for both BTC and ETH."
   ]
  },
  {
   "cell_type": "code",
   "execution_count": 8,
   "metadata": {},
   "outputs": [],
   "source": [
    "# The Free Crypto API Call endpoint URLs for the held cryptocurrency assets\n",
    "btc_url = \"https://api.alternative.me/v2/ticker/Bitcoin/?convert=USD\"\n",
    "eth_url = \"https://api.alternative.me/v2/ticker/Ethereum/?convert=USD\""
   ]
  },
  {
   "cell_type": "markdown",
   "metadata": {},
   "source": [
    "#### Step 2. Use the Requests library to get the current price (in US dollars) of Bitcoin (BTC) and Ethereum (ETH) by using the API endpoints that the starter code supplied."
   ]
  },
  {
   "cell_type": "code",
   "execution_count": 9,
   "metadata": {},
   "outputs": [
    {
     "name": "stdout",
     "output_type": "stream",
     "text": [
      "{\n",
      "    \"data\": {\n",
      "        \"1\": {\n",
      "            \"circulating_supply\": 19241768,\n",
      "            \"id\": 1,\n",
      "            \"last_updated\": 1671836384,\n",
      "            \"max_supply\": 21000000,\n",
      "            \"name\": \"Bitcoin\",\n",
      "            \"quotes\": {\n",
      "                \"USD\": {\n",
      "                    \"market_cap\": 323123016074,\n",
      "                    \"percent_change_1h\": -0.132315126517685,\n",
      "                    \"percent_change_24h\": 0.013990044568275,\n",
      "                    \"percent_change_7d\": -3.08599078490157,\n",
      "                    \"percentage_change_1h\": -0.132315126517685,\n",
      "                    \"percentage_change_24h\": 0.013990044568275,\n",
      "                    \"percentage_change_7d\": -3.08599078490157,\n",
      "                    \"price\": 16803.3,\n",
      "                    \"volume_24h\": 16847222520\n",
      "                }\n",
      "            },\n",
      "            \"rank\": 1,\n",
      "            \"symbol\": \"BTC\",\n",
      "            \"total_supply\": 19241768,\n",
      "            \"website_slug\": \"bitcoin\"\n",
      "        }\n",
      "    },\n",
      "    \"metadata\": {\n",
      "        \"error\": null,\n",
      "        \"num_cryptocurrencies\": 3119,\n",
      "        \"timestamp\": 1671836384\n",
      "    }\n",
      "}\n"
     ]
    }
   ],
   "source": [
    "# Using the Python requests library, make an API call to access the current price of BTC\n",
    "btc_response = requests.get(btc_url).json()\n",
    "\n",
    "# Use the json.dumps function to review the response data from the API call\n",
    "# Use the indent and sort_keys parameters to make the response object readable\n",
    "print(json.dumps(btc_response, indent=4, sort_keys=True))\n"
   ]
  },
  {
   "cell_type": "code",
   "execution_count": 10,
   "metadata": {},
   "outputs": [
    {
     "name": "stdout",
     "output_type": "stream",
     "text": [
      "{\n",
      "    \"data\": {\n",
      "        \"1027\": {\n",
      "            \"circulating_supply\": 120523093,\n",
      "            \"id\": 1027,\n",
      "            \"last_updated\": 1671836374,\n",
      "            \"max_supply\": 120523093,\n",
      "            \"name\": \"Ethereum\",\n",
      "            \"quotes\": {\n",
      "                \"USD\": {\n",
      "                    \"market_cap\": 146973335442,\n",
      "                    \"percent_change_1h\": -0.175091677440082,\n",
      "                    \"percent_change_24h\": 0.325281791022616,\n",
      "                    \"percent_change_7d\": -3.45119205356756,\n",
      "                    \"percentage_change_1h\": -0.175091677440082,\n",
      "                    \"percentage_change_24h\": 0.325281791022616,\n",
      "                    \"percentage_change_7d\": -3.45119205356756,\n",
      "                    \"price\": 1220.13,\n",
      "                    \"volume_24h\": 4812727177\n",
      "                }\n",
      "            },\n",
      "            \"rank\": 2,\n",
      "            \"symbol\": \"ETH\",\n",
      "            \"total_supply\": 120523093,\n",
      "            \"website_slug\": \"ethereum\"\n",
      "        }\n",
      "    },\n",
      "    \"metadata\": {\n",
      "        \"error\": null,\n",
      "        \"num_cryptocurrencies\": 3119,\n",
      "        \"timestamp\": 1671836374\n",
      "    }\n",
      "}\n"
     ]
    }
   ],
   "source": [
    "# Using the Python requests library, make an API call to access the current price ETH\n",
    "eth_response = requests.get(eth_url).json()\n",
    "\n",
    "# Use the json.dumps function to review the response data from the API call\n",
    "# Use the indent and sort_keys parameters to make the response object readable\n",
    "print(json.dumps(eth_response, indent=4, sort_keys=True))"
   ]
  },
  {
   "cell_type": "markdown",
   "metadata": {},
   "source": [
    "#### Step 3: Navigate the JSON response object to access the current price of each coin, and store each in a variable."
   ]
  },
  {
   "cell_type": "code",
   "execution_count": 11,
   "metadata": {},
   "outputs": [
    {
     "data": {
      "text/plain": [
       "16803.3"
      ]
     },
     "execution_count": 11,
     "metadata": {},
     "output_type": "execute_result"
    }
   ],
   "source": [
    "# Navigate the BTC response object to access the current price of BTC\n",
    "btc_price =btc_response[\"data\"][\"1\"][\"quotes\"][\"USD\"][\"price\"]\n",
    "\n",
    "# Print the current price of BTC\n",
    "btc_price\n"
   ]
  },
  {
   "cell_type": "code",
   "execution_count": 12,
   "metadata": {},
   "outputs": [
    {
     "data": {
      "text/plain": [
       "1220.13"
      ]
     },
     "execution_count": 12,
     "metadata": {},
     "output_type": "execute_result"
    }
   ],
   "source": [
    "# Navigate the BTC response object to access the current price of ETH\n",
    "eth_price =eth_response[\"data\"][\"1027\"][\"quotes\"][\"USD\"][\"price\"]\n",
    "# Print the current price of ETH\n",
    "eth_price\n"
   ]
  },
  {
   "cell_type": "markdown",
   "metadata": {},
   "source": [
    "### Step 4: Calculate the value, in US dollars, of the current amount of each cryptocurrency and of the entire cryptocurrency wallet."
   ]
  },
  {
   "cell_type": "code",
   "execution_count": 13,
   "metadata": {},
   "outputs": [
    {
     "name": "stdout",
     "output_type": "stream",
     "text": [
      "20163.96\n"
     ]
    }
   ],
   "source": [
    "# Compute the current value of the BTC holding \n",
    "btc_value = btc_price *btc_coins\n",
    "\n",
    "# Print current value of your holding in BTC\n",
    "print(btc_value)\n"
   ]
  },
  {
   "cell_type": "code",
   "execution_count": 14,
   "metadata": {},
   "outputs": [
    {
     "name": "stdout",
     "output_type": "stream",
     "text": [
      "6466.689\n"
     ]
    }
   ],
   "source": [
    "# Compute the current value of the ETH holding \n",
    "eth_value = eth_price*eth_coins\n",
    "\n",
    "# Print current value of your holding in ETH\n",
    "print(eth_value)\n"
   ]
  },
  {
   "cell_type": "code",
   "execution_count": 15,
   "metadata": {},
   "outputs": [
    {
     "name": "stdout",
     "output_type": "stream",
     "text": [
      "$ 26630.65\n"
     ]
    }
   ],
   "source": [
    "# Compute the total value of the cryptocurrency wallet\n",
    "# Add the value of the BTC holding to the value of the ETH holding\n",
    "total_crypto_wallet = btc_value+eth_value\n",
    "\n",
    "# Print current cryptocurrency wallet balance\n",
    "print(f\"${total_crypto_wallet: .2f}\")"
   ]
  },
  {
   "cell_type": "markdown",
   "metadata": {},
   "source": [
    "### Evaluate the Stock and Bond Holdings by Using the Alpaca SDK\n",
    "\n",
    "In this section, you’ll determine the current value of a member’s stock and bond holdings. You’ll make an API call to Alpaca via the Alpaca SDK to get the current closing prices of the SPDR S&P 500 ETF Trust (ticker: SPY) and of the iShares Core US Aggregate Bond ETF (ticker: AGG). For the prototype, assume that the member holds 110 shares of SPY, which represents the stock portion of their portfolio, and 200 shares of AGG, which represents the bond portion. To do all this, complete the following steps:\n",
    "\n",
    "1. In the `Starter_Code` folder, create an environment file (`.env`) to store the values of your Alpaca API key and Alpaca secret key.\n",
    "\n",
    "2. Set the variables for the Alpaca API and secret keys. Using the Alpaca SDK, create the Alpaca `tradeapi.REST` object. In this object, include the parameters for the Alpaca API key, the secret key, and the version number.\n",
    "\n",
    "3. Set the following parameters for the Alpaca API call:\n",
    "\n",
    "    - `tickers`: Use the tickers for the member’s stock and bond holdings.\n",
    "\n",
    "    - `timeframe`: Use a time frame of one day.\n",
    "\n",
    "    - `start_date` and `end_date`: Use the same date for these parameters, and format them with the date of the previous weekday (or `2020-08-07`). This is because you want the one closing price for the most-recent trading day.\n",
    "\n",
    "4. Get the current closing prices for `SPY` and `AGG` by using the Alpaca `get_bars` function. Format the response as a Pandas DataFrame by including the `df` property at the end of the `get_bars` function.\n",
    "\n",
    "5. Navigating the Alpaca response DataFrame, select the `SPY` and `AGG` closing prices, and store them as variables.\n",
    "\n",
    "6. Calculate the value, in US dollars, of the current amount of shares in each of the stock and bond portions of the portfolio, and print the results.\n"
   ]
  },
  {
   "cell_type": "markdown",
   "metadata": {},
   "source": [
    "#### Review the total number of shares held in both (SPY) and (AGG)."
   ]
  },
  {
   "cell_type": "code",
   "execution_count": 16,
   "metadata": {},
   "outputs": [],
   "source": [
    "# Current amount of shares held in both the stock (SPY) and bond (AGG) portion of the portfolio.\n",
    "spy_shares = 110\n",
    "agg_shares = 200\n"
   ]
  },
  {
   "cell_type": "markdown",
   "metadata": {},
   "source": [
    "#### Step 1: In the `Starter_Code` folder, create an environment file (`.env`) to store the values of your Alpaca API key and Alpaca secret key."
   ]
  },
  {
   "cell_type": "markdown",
   "metadata": {},
   "source": [
    "#### Step 2: Set the variables for the Alpaca API and secret keys. Using the Alpaca SDK, create the Alpaca `tradeapi.REST` object. In this object, include the parameters for the Alpaca API key, the secret key, and the version number."
   ]
  },
  {
   "cell_type": "code",
   "execution_count": 17,
   "metadata": {},
   "outputs": [],
   "source": [
    "# Set the variables for the Alpaca API and secret keys\n",
    "alpaca_api_key = os.getenv(\"ALPACA_API_KEY\")\n",
    "alpaca_secret_key = os.getenv(\"ALPACA_SECRET_KEY\")\n",
    "# Create the Alpaca tradeapi.REST object\n",
    "alpaca= tradeapi.REST(alpaca_api_key, alpaca_secret_key, api_version=\"v2\")"
   ]
  },
  {
   "cell_type": "markdown",
   "metadata": {},
   "source": [
    "#### Step 3: Set the following parameters for the Alpaca API call:\n",
    "\n",
    "- `tickers`: Use the tickers for the member’s stock and bond holdings.\n",
    "\n",
    "- `timeframe`: Use a time frame of one day.\n",
    "\n",
    "- `start_date` and `end_date`: Use the same date for these parameters, and format them with the date of the previous weekday (or `2020-08-07`). This is because you want the one closing price for the most-recent trading day.\n"
   ]
  },
  {
   "cell_type": "code",
   "execution_count": 18,
   "metadata": {},
   "outputs": [],
   "source": [
    "# Set the tickers for both the bond and stock portion of the portfolio\n",
    "tickers = [\"SPY\", \"AGG\"]\n",
    "\n",
    "# Set timeframe to 1Day\n",
    "timeframe=\"1D\"\n",
    "\n",
    "# Format current date as ISO format\n",
    "# Set both the start and end date at the date of your prior weekday \n",
    "# This will give you the closing price of the previous trading day\n",
    "# Alternatively you can use a start and end date of 2020-08-07\n",
    "start_date = pd.Timestamp(\"2022-08-29\", tz=\"America/New_York\").isoformat()\n",
    "end_date = pd.Timestamp(\"2022-08-29\", tz=\"America/New_York\").isoformat()"
   ]
  },
  {
   "cell_type": "markdown",
   "metadata": {},
   "source": [
    "#### Step 4: Get the current closing prices for `SPY` and `AGG` by using the Alpaca `get_bars` function. Format the response as a Pandas DataFrame by including the `df` property at the end of the `get_bars` function."
   ]
  },
  {
   "cell_type": "code",
   "execution_count": 19,
   "metadata": {},
   "outputs": [
    {
     "data": {
      "text/html": [
       "<div>\n",
       "<style scoped>\n",
       "    .dataframe tbody tr th:only-of-type {\n",
       "        vertical-align: middle;\n",
       "    }\n",
       "\n",
       "    .dataframe tbody tr th {\n",
       "        vertical-align: top;\n",
       "    }\n",
       "\n",
       "    .dataframe thead tr th {\n",
       "        text-align: left;\n",
       "    }\n",
       "\n",
       "    .dataframe thead tr:last-of-type th {\n",
       "        text-align: right;\n",
       "    }\n",
       "</style>\n",
       "<table border=\"1\" class=\"dataframe\">\n",
       "  <thead>\n",
       "    <tr>\n",
       "      <th></th>\n",
       "      <th colspan=\"7\" halign=\"left\">SPY</th>\n",
       "      <th colspan=\"7\" halign=\"left\">AGG</th>\n",
       "    </tr>\n",
       "    <tr>\n",
       "      <th></th>\n",
       "      <th>open</th>\n",
       "      <th>high</th>\n",
       "      <th>low</th>\n",
       "      <th>close</th>\n",
       "      <th>volume</th>\n",
       "      <th>trade_count</th>\n",
       "      <th>vwap</th>\n",
       "      <th>open</th>\n",
       "      <th>high</th>\n",
       "      <th>low</th>\n",
       "      <th>close</th>\n",
       "      <th>volume</th>\n",
       "      <th>trade_count</th>\n",
       "      <th>vwap</th>\n",
       "    </tr>\n",
       "    <tr>\n",
       "      <th>timestamp</th>\n",
       "      <th></th>\n",
       "      <th></th>\n",
       "      <th></th>\n",
       "      <th></th>\n",
       "      <th></th>\n",
       "      <th></th>\n",
       "      <th></th>\n",
       "      <th></th>\n",
       "      <th></th>\n",
       "      <th></th>\n",
       "      <th></th>\n",
       "      <th></th>\n",
       "      <th></th>\n",
       "      <th></th>\n",
       "    </tr>\n",
       "  </thead>\n",
       "  <tbody>\n",
       "    <tr>\n",
       "      <th>2022-08-29 04:00:00+00:00</th>\n",
       "      <td>402.2</td>\n",
       "      <td>405.84</td>\n",
       "      <td>401.1999</td>\n",
       "      <td>402.63</td>\n",
       "      <td>65225959</td>\n",
       "      <td>489086</td>\n",
       "      <td>403.552893</td>\n",
       "      <td>101.27</td>\n",
       "      <td>101.28</td>\n",
       "      <td>101.055</td>\n",
       "      <td>101.12</td>\n",
       "      <td>7508760</td>\n",
       "      <td>15383</td>\n",
       "      <td>101.176898</td>\n",
       "    </tr>\n",
       "  </tbody>\n",
       "</table>\n",
       "</div>"
      ],
      "text/plain": [
       "                             SPY                                      \\\n",
       "                            open    high       low   close    volume   \n",
       "timestamp                                                              \n",
       "2022-08-29 04:00:00+00:00  402.2  405.84  401.1999  402.63  65225959   \n",
       "\n",
       "                                                      AGG                   \\\n",
       "                          trade_count        vwap    open    high      low   \n",
       "timestamp                                                                    \n",
       "2022-08-29 04:00:00+00:00      489086  403.552893  101.27  101.28  101.055   \n",
       "\n",
       "                                                                    \n",
       "                            close   volume trade_count        vwap  \n",
       "timestamp                                                           \n",
       "2022-08-29 04:00:00+00:00  101.12  7508760       15383  101.176898  "
      ]
     },
     "execution_count": 19,
     "metadata": {},
     "output_type": "execute_result"
    }
   ],
   "source": [
    "# Use the Alpaca get_bars function to get current closing prices the portfolio\n",
    "# Be sure to set the `df` property after the function to format the response object as a DataFrame\n",
    "df_closing_prices = alpaca.get_bars(\n",
    "    tickers,\n",
    "    timeframe,\n",
    "    start = start_date,\n",
    "    end = end_date\n",
    ").df\n",
    "df_closing_prices\n",
    "\n",
    "# Reorganize the DataFrame\n",
    "SPY = df_closing_prices[df_closing_prices[\"symbol\"]==\"SPY\"].drop(\"symbol\", axis=1)\n",
    "AGG = df_closing_prices[df_closing_prices[\"symbol\"]==\"AGG\"].drop(\"symbol\", axis=1)\n",
    "\n",
    "# Concatenate the ticker DataFrames\n",
    "df_closing_prices = pd.concat([SPY, AGG], axis=1, keys=[\"SPY\", \"AGG\"])\n",
    "\n",
    "# Review the first 5 rows of the Alpaca DataFrame\n",
    "df_closing_prices.head()"
   ]
  },
  {
   "cell_type": "markdown",
   "metadata": {},
   "source": [
    "#### Step 5: Navigating the Alpaca response DataFrame, select the `SPY` and `AGG` closing prices, and store them as variables."
   ]
  },
  {
   "cell_type": "code",
   "execution_count": 20,
   "metadata": {},
   "outputs": [
    {
     "name": "stdout",
     "output_type": "stream",
     "text": [
      "Curent AGG closing price: $101.12\n"
     ]
    }
   ],
   "source": [
    "# Access the closing price for AGG from the Alpaca DataFrame\n",
    "# Converting the value to a floating point number\n",
    "agg_close_price = float(df_closing_prices[\"AGG\"][\"close\"])\n",
    "\n",
    "# Print the AGG closing price\n",
    "print(f\"Curent AGG closing price: ${agg_close_price}\")"
   ]
  },
  {
   "cell_type": "code",
   "execution_count": 21,
   "metadata": {},
   "outputs": [
    {
     "name": "stdout",
     "output_type": "stream",
     "text": [
      "Curent SPY closing price: $402.63\n"
     ]
    }
   ],
   "source": [
    "# Access the closing price for SPY from the Alpaca DataFrame\n",
    "# Converting the value to a floating point number\n",
    "spy_close_price = float(df_closing_prices[\"SPY\"][\"close\"])\n",
    "\n",
    "# Print the SPY closing price\n",
    "print(f\"Curent SPY closing price: ${spy_close_price}\")\n"
   ]
  },
  {
   "cell_type": "markdown",
   "metadata": {},
   "source": [
    "#### Step 6: Calculate the value, in US dollars, of the current amount of shares in each of the stock and bond portions of the portfolio, and print the results."
   ]
  },
  {
   "cell_type": "code",
   "execution_count": 22,
   "metadata": {},
   "outputs": [
    {
     "data": {
      "text/plain": [
       "20224.0"
      ]
     },
     "execution_count": 22,
     "metadata": {},
     "output_type": "execute_result"
    }
   ],
   "source": [
    "# Calculate the current value of the bond portion of the portfolio\n",
    "agg_value =agg_shares*agg_close_price\n",
    "\n",
    "# Print the current value of the bond portfolio\n",
    "agg_value\n"
   ]
  },
  {
   "cell_type": "code",
   "execution_count": 23,
   "metadata": {},
   "outputs": [
    {
     "data": {
      "text/plain": [
       "44289.3"
      ]
     },
     "execution_count": 23,
     "metadata": {},
     "output_type": "execute_result"
    }
   ],
   "source": [
    "# Calculate the current value of the stock portion of the portfolio\n",
    "spy_value =spy_shares * spy_close_price\n",
    "\n",
    "# Print the current value of the stock portfolio\n",
    "spy_value\n"
   ]
  },
  {
   "cell_type": "code",
   "execution_count": 24,
   "metadata": {},
   "outputs": [
    {
     "data": {
      "text/plain": [
       "64513.3"
      ]
     },
     "execution_count": 24,
     "metadata": {},
     "output_type": "execute_result"
    }
   ],
   "source": [
    "# Calculate the total value of the stock and bond portion of the portfolio\n",
    "total_stocks_bonds =agg_value + spy_value\n",
    "\n",
    "# Print the current balance of the stock and bond portion of the portfolio\n",
    "total_stocks_bonds"
   ]
  },
  {
   "cell_type": "code",
   "execution_count": 25,
   "metadata": {},
   "outputs": [
    {
     "data": {
      "text/plain": [
       "91143.949"
      ]
     },
     "execution_count": 25,
     "metadata": {},
     "output_type": "execute_result"
    }
   ],
   "source": [
    "# Calculate the total value of the member's entire savings portfolio\n",
    "# Add the value of the cryptocurrency walled to the value of the total stocks and bonds\n",
    "total_portfolio = total_stocks_bonds+total_crypto_wallet\n",
    "\n",
    "# Print current cryptocurrency wallet balance\n",
    "total_portfolio\n"
   ]
  },
  {
   "cell_type": "markdown",
   "metadata": {},
   "source": [
    "### Evaluate the Emergency Fund\n",
    "\n",
    "In this section, you’ll use the valuations for the cryptocurrency wallet and for the stock and bond portions of the portfolio to determine if the credit union member has enough savings to build an emergency fund into their financial plan. To do this, complete the following steps:\n",
    "\n",
    "1. Create a Python list named `savings_data` that has two elements. The first element contains the total value of the cryptocurrency wallet. The second element contains the total value of the stock and bond portions of the portfolio.\n",
    "\n",
    "2. Use the `savings_data` list to create a Pandas DataFrame named `savings_df`, and then display this DataFrame. The function to create the DataFrame should take the following three parameters:\n",
    "\n",
    "    - `savings_data`: Use the list that you just created.\n",
    "\n",
    "    - `columns`: Set this parameter equal to a Python list with a single value called `amount`.\n",
    "\n",
    "    - `index`: Set this parameter equal to a Python list with the values of `crypto` and `stock/bond`.\n",
    "\n",
    "3. Use the `savings_df` DataFrame to plot a pie chart that visualizes the composition of the member’s portfolio. The y-axis of the pie chart uses `amount`. Be sure to add a title.\n",
    "\n",
    "4. Using Python, determine if the current portfolio has enough to create an emergency fund as part of the member’s financial plan. Ideally, an emergency fund should equal to three times the member’s monthly income. To do this, implement the following steps:\n",
    "\n",
    "    1. Create a variable named `emergency_fund_value`, and set it equal to three times the value of the member’s `monthly_income` of $12000. (You set this earlier in Part 1).\n",
    "\n",
    "    2. Create a series of three if statements to determine if the member’s total portfolio is large enough to fund the emergency portfolio:\n",
    "\n",
    "        1. If the total portfolio value is greater than the emergency fund value, display a message congratulating the member for having enough money in this fund.\n",
    "\n",
    "        2. Else if the total portfolio value is equal to the emergency fund value, display a message congratulating the member on reaching this important financial goal.\n",
    "\n",
    "        3. Else the total portfolio is less than the emergency fund value, so display a message showing how many dollars away the member is from reaching the goal. (Subtract the total portfolio value from the emergency fund value.)\n"
   ]
  },
  {
   "cell_type": "markdown",
   "metadata": {},
   "source": [
    "#### Step 1: Create a Python list named `savings_data` that has two elements. The first element contains the total value of the cryptocurrency wallet. The second element contains the total value of the stock and bond portions of the portfolio."
   ]
  },
  {
   "cell_type": "code",
   "execution_count": 26,
   "metadata": {},
   "outputs": [
    {
     "data": {
      "text/plain": [
       "[26630.648999999998, 64513.3]"
      ]
     },
     "execution_count": 26,
     "metadata": {},
     "output_type": "execute_result"
    }
   ],
   "source": [
    "# Consolidate financial assets data into a Python list\n",
    "savings_data=[total_crypto_wallet,total_stocks_bonds]\n",
    "\n",
    "\n",
    "# Review the Python list savings_data\n",
    "savings_data    "
   ]
  },
  {
   "cell_type": "markdown",
   "metadata": {},
   "source": [
    "#### Step 2: Use the `savings_data` list to create a Pandas DataFrame named `savings_df`, and then display this DataFrame. The function to create the DataFrame should take the following three parameters:\n",
    "\n",
    "- `savings_data`: Use the list that you just created.\n",
    "\n",
    "- `columns`: Set this parameter equal to a Python list with a single value called `amount`.\n",
    "\n",
    "- `index`: Set this parameter equal to a Python list with the values of `crypto` and `stock/bond`.\n"
   ]
  },
  {
   "cell_type": "code",
   "execution_count": 27,
   "metadata": {},
   "outputs": [
    {
     "data": {
      "text/html": [
       "<div>\n",
       "<style scoped>\n",
       "    .dataframe tbody tr th:only-of-type {\n",
       "        vertical-align: middle;\n",
       "    }\n",
       "\n",
       "    .dataframe tbody tr th {\n",
       "        vertical-align: top;\n",
       "    }\n",
       "\n",
       "    .dataframe thead th {\n",
       "        text-align: right;\n",
       "    }\n",
       "</style>\n",
       "<table border=\"1\" class=\"dataframe\">\n",
       "  <thead>\n",
       "    <tr style=\"text-align: right;\">\n",
       "      <th></th>\n",
       "      <th>cryto</th>\n",
       "      <th>stock/bond</th>\n",
       "    </tr>\n",
       "  </thead>\n",
       "  <tbody>\n",
       "    <tr>\n",
       "      <th>amount</th>\n",
       "      <td>26630.649</td>\n",
       "      <td>64513.3</td>\n",
       "    </tr>\n",
       "  </tbody>\n",
       "</table>\n",
       "</div>"
      ],
      "text/plain": [
       "            cryto  stock/bond\n",
       "amount  26630.649     64513.3"
      ]
     },
     "execution_count": 27,
     "metadata": {},
     "output_type": "execute_result"
    }
   ],
   "source": [
    "# Create a Pandas DataFrame called savings_df \n",
    "savings_df =pd.DataFrame(savings_data, columns=[\"amount\"], index=[\"cryto\", \"stock/bond\"])\n",
    "# Display the savings_df DataFrame\n",
    "savings_df.T\n"
   ]
  },
  {
   "cell_type": "markdown",
   "metadata": {},
   "source": [
    "#### Step 3: Use the `savings_df` DataFrame to plot a pie chart that visualizes the composition of the member’s portfolio. The y-axis of the pie chart uses `amount`. Be sure to add a title."
   ]
  },
  {
   "cell_type": "code",
   "execution_count": 28,
   "metadata": {},
   "outputs": [
    {
     "data": {
      "text/plain": [
       "<AxesSubplot:title={'center':'All Portfolio Assets'}, ylabel='amount'>"
      ]
     },
     "execution_count": 28,
     "metadata": {},
     "output_type": "execute_result"
    },
    {
     "data": {
      "image/png": "[encoded data removed]",
      "text/plain": [
       "<Figure size 720x360 with 1 Axes>"
      ]
     },
     "metadata": {},
     "output_type": "display_data"
    }
   ],
   "source": [
    "# Plot the total value of the member's portfolio (crypto and stock/bond) in a pie chart\n",
    "savings_df.plot.pie(y=\"amount\",figsize=(10,5),title=\"All Portfolio Assets\")\n",
    "\n",
    "\n"
   ]
  },
  {
   "cell_type": "markdown",
   "metadata": {},
   "source": [
    "#### Step 4: Using Python, determine if the current portfolio has enough to create an emergency fund as part of the member’s financial plan. Ideally, an emergency fund should equal to three times the member’s monthly income. To do this, implement the following steps:\n",
    "\n",
    "Step 1. Create a variable named `emergency_fund_value`, and set it equal to three times the value of the member’s `monthly_income` of 12000. (You set this earlier in Part 1).\n",
    "\n",
    "Step 2. Create a series of three if statements to determine if the member’s total portfolio is large enough to fund the emergency portfolio:\n",
    "\n",
    "* If the total portfolio value is greater than the emergency fund value, display a message congratulating the member for having enough money in this fund.\n",
    "\n",
    "* Else if the total portfolio value is equal to the emergency fund value, display a message congratulating the member on reaching this important financial goal.\n",
    "\n",
    "* Else the total portfolio is less than the emergency fund value, so display a message showing how many dollars away the member is from reaching the goal. (Subtract the total portfolio value from the emergency fund value.)\n"
   ]
  },
  {
   "cell_type": "markdown",
   "metadata": {},
   "source": [
    "##### Step 4-1: Create a variable named `emergency_fund_value`, and set it equal to three times the value of the member’s `monthly_income` of 12000. (You set this earlier in Part 1)."
   ]
  },
  {
   "cell_type": "code",
   "execution_count": 29,
   "metadata": {},
   "outputs": [],
   "source": [
    "# Create a variable named emergency_fund_value\n",
    "emergency_fund_value=3*monthly_income\n"
   ]
  },
  {
   "cell_type": "markdown",
   "metadata": {},
   "source": [
    "##### Step 4-2: Create a series of three if statements to determine if the member’s total portfolio is large enough to fund the emergency portfolio:\n",
    "\n",
    "* If the total portfolio value is greater than the emergency fund value, display a message congratulating the member for having enough money in this fund.\n",
    "\n",
    "* Else if the total portfolio value is equal to the emergency fund value, display a message congratulating the member on reaching this important financial goal.\n",
    "\n",
    "* Else the total portfolio is less than the emergency fund value, so display a message showing how many dollars away the member is from reaching the goal. (Subtract the total portfolio value from the emergency fund value.)"
   ]
  },
  {
   "cell_type": "code",
   "execution_count": 30,
   "metadata": {},
   "outputs": [
    {
     "name": "stdout",
     "output_type": "stream",
     "text": [
      "Your portfolio has enough money in case of an emergency.\n"
     ]
    }
   ],
   "source": [
    "# Evaluate the possibility of creating an emergency fund with 3 conditions:\n",
    "if total_portfolio > emergency_fund_value:\n",
    "    print(f\"Your portfolio has enough money in case of an emergency.\")\n",
    "elif total_portfolio == emergency_fund_value:\n",
    "    print(f\"Dear client: You are close to having sufficent funds in case of an emergency.\")\n",
    "    print(\"Your emergency fund should be 3 times your current monthly income.\")\n",
    "else:\n",
    "    print(f\"The total in your portfolio is${emergency_fund_value}, consisting of ${emergency_fund_value - total_portfolio}, the total amount needed in an emergency.\")"
   ]
  },
  {
   "cell_type": "markdown",
   "metadata": {},
   "source": [
    "## Part 2: Create a Financial Planner for Retirement"
   ]
  },
  {
   "cell_type": "markdown",
   "metadata": {},
   "source": [
    "### Create the Monte Carlo Simulation\n",
    "\n",
    "In this section, you’ll use the MCForecastTools library to create a Monte Carlo simulation for the member’s savings portfolio. To do this, complete the following steps:\n",
    "\n",
    "1. Make an API call via the Alpaca SDK to get 3 years of historical closing prices for a traditional 60/40 portfolio split: 60% stocks (SPY) and 40% bonds (AGG).\n",
    "\n",
    "2. Run a Monte Carlo simulation of 500 samples and 30 years for the 60/40 portfolio, and then plot the results.The following image shows the overlay line plot resulting from a simulation with these characteristics. However, because a random number generator is used to run each live Monte Carlo simulation, your image will differ slightly from this exact image:\n",
    "\n",
    "![A screenshot depicts the resulting plot.](Images/5-4-monte-carlo-line-plot.png)\n",
    "\n",
    "3. Plot the probability distribution of the Monte Carlo simulation. Plot the probability distribution of the Monte Carlo simulation. The following image shows the histogram plot resulting from a simulation with these characteristics. However, because a random number generator is used to run each live Monte Carlo simulation, your image will differ slightly from this exact image:\n",
    "\n",
    "![A screenshot depicts the histogram plot.](Images/5-4-monte-carlo-histogram.png)\n",
    "\n",
    "4. Generate the summary statistics for the Monte Carlo simulation.\n",
    "\n"
   ]
  },
  {
   "cell_type": "markdown",
   "metadata": {},
   "source": [
    "#### Step 1: Make an API call via the Alpaca SDK to get 3 years of historical closing prices for a traditional 60/40 portfolio split: 60% stocks (SPY) and 40% bonds (AGG)."
   ]
  },
  {
   "cell_type": "code",
   "execution_count": 44,
   "metadata": {},
   "outputs": [],
   "source": [
    "# Set start and end dates of 3 years back from your current date\n",
    "# Alternatively, you can use an end date of 2020-08-07 and work 3 years back from that date \n",
    "start_date = pd.Timestamp(\"2019-08-30\", tz=\"America/New_York\").isoformat()\n",
    "end_date = pd.Timestamp(\"2022-08-30\", tz=\"America/New_York\").isoformat()\n"
   ]
  },
  {
   "cell_type": "code",
   "execution_count": 46,
   "metadata": {},
   "outputs": [
    {
     "data": {
      "text/html": [
       "<div>\n",
       "<style scoped>\n",
       "    .dataframe tbody tr th:only-of-type {\n",
       "        vertical-align: middle;\n",
       "    }\n",
       "\n",
       "    .dataframe tbody tr th {\n",
       "        vertical-align: top;\n",
       "    }\n",
       "\n",
       "    .dataframe thead tr th {\n",
       "        text-align: left;\n",
       "    }\n",
       "\n",
       "    .dataframe thead tr:last-of-type th {\n",
       "        text-align: right;\n",
       "    }\n",
       "</style>\n",
       "<table border=\"1\" class=\"dataframe\">\n",
       "  <thead>\n",
       "    <tr>\n",
       "      <th></th>\n",
       "      <th colspan=\"7\" halign=\"left\">SPY</th>\n",
       "      <th colspan=\"7\" halign=\"left\">AGG</th>\n",
       "    </tr>\n",
       "    <tr>\n",
       "      <th></th>\n",
       "      <th>open</th>\n",
       "      <th>high</th>\n",
       "      <th>low</th>\n",
       "      <th>close</th>\n",
       "      <th>volume</th>\n",
       "      <th>trade_count</th>\n",
       "      <th>vwap</th>\n",
       "      <th>open</th>\n",
       "      <th>high</th>\n",
       "      <th>low</th>\n",
       "      <th>close</th>\n",
       "      <th>volume</th>\n",
       "      <th>trade_count</th>\n",
       "      <th>vwap</th>\n",
       "    </tr>\n",
       "    <tr>\n",
       "      <th>timestamp</th>\n",
       "      <th></th>\n",
       "      <th></th>\n",
       "      <th></th>\n",
       "      <th></th>\n",
       "      <th></th>\n",
       "      <th></th>\n",
       "      <th></th>\n",
       "      <th></th>\n",
       "      <th></th>\n",
       "      <th></th>\n",
       "      <th></th>\n",
       "      <th></th>\n",
       "      <th></th>\n",
       "      <th></th>\n",
       "    </tr>\n",
       "  </thead>\n",
       "  <tbody>\n",
       "    <tr>\n",
       "      <th>2019-08-30 04:00:00+00:00</th>\n",
       "      <td>294.22</td>\n",
       "      <td>294.2399</td>\n",
       "      <td>291.420</td>\n",
       "      <td>292.4527</td>\n",
       "      <td>63024780</td>\n",
       "      <td>303476</td>\n",
       "      <td>292.713824</td>\n",
       "      <td>294.22</td>\n",
       "      <td>294.2399</td>\n",
       "      <td>291.420</td>\n",
       "      <td>292.4527</td>\n",
       "      <td>63024780</td>\n",
       "      <td>303476</td>\n",
       "      <td>292.713824</td>\n",
       "    </tr>\n",
       "    <tr>\n",
       "      <th>2019-09-03 04:00:00+00:00</th>\n",
       "      <td>290.57</td>\n",
       "      <td>291.5800</td>\n",
       "      <td>289.270</td>\n",
       "      <td>290.7500</td>\n",
       "      <td>69233875</td>\n",
       "      <td>362212</td>\n",
       "      <td>290.492676</td>\n",
       "      <td>290.57</td>\n",
       "      <td>291.5800</td>\n",
       "      <td>289.270</td>\n",
       "      <td>290.7500</td>\n",
       "      <td>69233875</td>\n",
       "      <td>362212</td>\n",
       "      <td>290.492676</td>\n",
       "    </tr>\n",
       "    <tr>\n",
       "      <th>2019-09-04 04:00:00+00:00</th>\n",
       "      <td>293.14</td>\n",
       "      <td>294.0550</td>\n",
       "      <td>292.310</td>\n",
       "      <td>293.9700</td>\n",
       "      <td>47160461</td>\n",
       "      <td>236850</td>\n",
       "      <td>293.322384</td>\n",
       "      <td>293.14</td>\n",
       "      <td>294.0550</td>\n",
       "      <td>292.310</td>\n",
       "      <td>293.9700</td>\n",
       "      <td>47160461</td>\n",
       "      <td>236850</td>\n",
       "      <td>293.322384</td>\n",
       "    </tr>\n",
       "    <tr>\n",
       "      <th>2019-09-05 04:00:00+00:00</th>\n",
       "      <td>296.79</td>\n",
       "      <td>298.8300</td>\n",
       "      <td>294.001</td>\n",
       "      <td>297.7500</td>\n",
       "      <td>83356779</td>\n",
       "      <td>377089</td>\n",
       "      <td>297.528062</td>\n",
       "      <td>296.79</td>\n",
       "      <td>298.8300</td>\n",
       "      <td>294.001</td>\n",
       "      <td>297.7500</td>\n",
       "      <td>83356779</td>\n",
       "      <td>377089</td>\n",
       "      <td>297.528062</td>\n",
       "    </tr>\n",
       "    <tr>\n",
       "      <th>2019-09-06 04:00:00+00:00</th>\n",
       "      <td>298.17</td>\n",
       "      <td>298.7600</td>\n",
       "      <td>297.420</td>\n",
       "      <td>298.0500</td>\n",
       "      <td>49676444</td>\n",
       "      <td>255431</td>\n",
       "      <td>298.223331</td>\n",
       "      <td>298.17</td>\n",
       "      <td>298.7600</td>\n",
       "      <td>297.420</td>\n",
       "      <td>298.0500</td>\n",
       "      <td>49676444</td>\n",
       "      <td>255431</td>\n",
       "      <td>298.223331</td>\n",
       "    </tr>\n",
       "  </tbody>\n",
       "</table>\n",
       "</div>"
      ],
      "text/plain": [
       "                              SPY                                         \\\n",
       "                             open      high      low     close    volume   \n",
       "timestamp                                                                  \n",
       "2019-08-30 04:00:00+00:00  294.22  294.2399  291.420  292.4527  63024780   \n",
       "2019-09-03 04:00:00+00:00  290.57  291.5800  289.270  290.7500  69233875   \n",
       "2019-09-04 04:00:00+00:00  293.14  294.0550  292.310  293.9700  47160461   \n",
       "2019-09-05 04:00:00+00:00  296.79  298.8300  294.001  297.7500  83356779   \n",
       "2019-09-06 04:00:00+00:00  298.17  298.7600  297.420  298.0500  49676444   \n",
       "\n",
       "                                                      AGG                     \\\n",
       "                          trade_count        vwap    open      high      low   \n",
       "timestamp                                                                      \n",
       "2019-08-30 04:00:00+00:00      303476  292.713824  294.22  294.2399  291.420   \n",
       "2019-09-03 04:00:00+00:00      362212  290.492676  290.57  291.5800  289.270   \n",
       "2019-09-04 04:00:00+00:00      236850  293.322384  293.14  294.0550  292.310   \n",
       "2019-09-05 04:00:00+00:00      377089  297.528062  296.79  298.8300  294.001   \n",
       "2019-09-06 04:00:00+00:00      255431  298.223331  298.17  298.7600  297.420   \n",
       "\n",
       "                                                                       \n",
       "                              close    volume trade_count        vwap  \n",
       "timestamp                                                              \n",
       "2019-08-30 04:00:00+00:00  292.4527  63024780      303476  292.713824  \n",
       "2019-09-03 04:00:00+00:00  290.7500  69233875      362212  290.492676  \n",
       "2019-09-04 04:00:00+00:00  293.9700  47160461      236850  293.322384  \n",
       "2019-09-05 04:00:00+00:00  297.7500  83356779      377089  297.528062  \n",
       "2019-09-06 04:00:00+00:00  298.0500  49676444      255431  298.223331  "
      ]
     },
     "metadata": {},
     "output_type": "display_data"
    },
    {
     "data": {
      "text/html": [
       "<div>\n",
       "<style scoped>\n",
       "    .dataframe tbody tr th:only-of-type {\n",
       "        vertical-align: middle;\n",
       "    }\n",
       "\n",
       "    .dataframe tbody tr th {\n",
       "        vertical-align: top;\n",
       "    }\n",
       "\n",
       "    .dataframe thead tr th {\n",
       "        text-align: left;\n",
       "    }\n",
       "\n",
       "    .dataframe thead tr:last-of-type th {\n",
       "        text-align: right;\n",
       "    }\n",
       "</style>\n",
       "<table border=\"1\" class=\"dataframe\">\n",
       "  <thead>\n",
       "    <tr>\n",
       "      <th></th>\n",
       "      <th colspan=\"7\" halign=\"left\">SPY</th>\n",
       "      <th colspan=\"7\" halign=\"left\">AGG</th>\n",
       "    </tr>\n",
       "    <tr>\n",
       "      <th></th>\n",
       "      <th>open</th>\n",
       "      <th>high</th>\n",
       "      <th>low</th>\n",
       "      <th>close</th>\n",
       "      <th>volume</th>\n",
       "      <th>trade_count</th>\n",
       "      <th>vwap</th>\n",
       "      <th>open</th>\n",
       "      <th>high</th>\n",
       "      <th>low</th>\n",
       "      <th>close</th>\n",
       "      <th>volume</th>\n",
       "      <th>trade_count</th>\n",
       "      <th>vwap</th>\n",
       "    </tr>\n",
       "    <tr>\n",
       "      <th>timestamp</th>\n",
       "      <th></th>\n",
       "      <th></th>\n",
       "      <th></th>\n",
       "      <th></th>\n",
       "      <th></th>\n",
       "      <th></th>\n",
       "      <th></th>\n",
       "      <th></th>\n",
       "      <th></th>\n",
       "      <th></th>\n",
       "      <th></th>\n",
       "      <th></th>\n",
       "      <th></th>\n",
       "      <th></th>\n",
       "    </tr>\n",
       "  </thead>\n",
       "  <tbody>\n",
       "    <tr>\n",
       "      <th>2022-08-24 04:00:00+00:00</th>\n",
       "      <td>412.1100</td>\n",
       "      <td>415.1101</td>\n",
       "      <td>411.3900</td>\n",
       "      <td>413.67</td>\n",
       "      <td>48983049</td>\n",
       "      <td>334281</td>\n",
       "      <td>413.383226</td>\n",
       "      <td>412.1100</td>\n",
       "      <td>415.1101</td>\n",
       "      <td>411.3900</td>\n",
       "      <td>413.67</td>\n",
       "      <td>48983049</td>\n",
       "      <td>334281</td>\n",
       "      <td>413.383226</td>\n",
       "    </tr>\n",
       "    <tr>\n",
       "      <th>2022-08-25 04:00:00+00:00</th>\n",
       "      <td>415.2301</td>\n",
       "      <td>419.5600</td>\n",
       "      <td>414.0900</td>\n",
       "      <td>419.51</td>\n",
       "      <td>48816114</td>\n",
       "      <td>338000</td>\n",
       "      <td>416.816182</td>\n",
       "      <td>415.2301</td>\n",
       "      <td>419.5600</td>\n",
       "      <td>414.0900</td>\n",
       "      <td>419.51</td>\n",
       "      <td>48816114</td>\n",
       "      <td>338000</td>\n",
       "      <td>416.816182</td>\n",
       "    </tr>\n",
       "    <tr>\n",
       "      <th>2022-08-26 04:00:00+00:00</th>\n",
       "      <td>419.3900</td>\n",
       "      <td>419.9600</td>\n",
       "      <td>405.2500</td>\n",
       "      <td>405.31</td>\n",
       "      <td>102743389</td>\n",
       "      <td>669874</td>\n",
       "      <td>410.796242</td>\n",
       "      <td>419.3900</td>\n",
       "      <td>419.9600</td>\n",
       "      <td>405.2500</td>\n",
       "      <td>405.31</td>\n",
       "      <td>102743389</td>\n",
       "      <td>669874</td>\n",
       "      <td>410.796242</td>\n",
       "    </tr>\n",
       "    <tr>\n",
       "      <th>2022-08-29 04:00:00+00:00</th>\n",
       "      <td>402.2000</td>\n",
       "      <td>405.8400</td>\n",
       "      <td>401.1999</td>\n",
       "      <td>402.63</td>\n",
       "      <td>65225959</td>\n",
       "      <td>489086</td>\n",
       "      <td>403.552893</td>\n",
       "      <td>402.2000</td>\n",
       "      <td>405.8400</td>\n",
       "      <td>401.1999</td>\n",
       "      <td>402.63</td>\n",
       "      <td>65225959</td>\n",
       "      <td>489086</td>\n",
       "      <td>403.552893</td>\n",
       "    </tr>\n",
       "    <tr>\n",
       "      <th>2022-08-30 04:00:00+00:00</th>\n",
       "      <td>403.8500</td>\n",
       "      <td>404.1000</td>\n",
       "      <td>396.0000</td>\n",
       "      <td>398.21</td>\n",
       "      <td>85326406</td>\n",
       "      <td>607506</td>\n",
       "      <td>399.084888</td>\n",
       "      <td>403.8500</td>\n",
       "      <td>404.1000</td>\n",
       "      <td>396.0000</td>\n",
       "      <td>398.21</td>\n",
       "      <td>85326406</td>\n",
       "      <td>607506</td>\n",
       "      <td>399.084888</td>\n",
       "    </tr>\n",
       "  </tbody>\n",
       "</table>\n",
       "</div>"
      ],
      "text/plain": [
       "                                SPY                                         \\\n",
       "                               open      high       low   close     volume   \n",
       "timestamp                                                                    \n",
       "2022-08-24 04:00:00+00:00  412.1100  415.1101  411.3900  413.67   48983049   \n",
       "2022-08-25 04:00:00+00:00  415.2301  419.5600  414.0900  419.51   48816114   \n",
       "2022-08-26 04:00:00+00:00  419.3900  419.9600  405.2500  405.31  102743389   \n",
       "2022-08-29 04:00:00+00:00  402.2000  405.8400  401.1999  402.63   65225959   \n",
       "2022-08-30 04:00:00+00:00  403.8500  404.1000  396.0000  398.21   85326406   \n",
       "\n",
       "                                                        AGG            \\\n",
       "                          trade_count        vwap      open      high   \n",
       "timestamp                                                               \n",
       "2022-08-24 04:00:00+00:00      334281  413.383226  412.1100  415.1101   \n",
       "2022-08-25 04:00:00+00:00      338000  416.816182  415.2301  419.5600   \n",
       "2022-08-26 04:00:00+00:00      669874  410.796242  419.3900  419.9600   \n",
       "2022-08-29 04:00:00+00:00      489086  403.552893  402.2000  405.8400   \n",
       "2022-08-30 04:00:00+00:00      607506  399.084888  403.8500  404.1000   \n",
       "\n",
       "                                                                                \n",
       "                                low   close     volume trade_count        vwap  \n",
       "timestamp                                                                       \n",
       "2022-08-24 04:00:00+00:00  411.3900  413.67   48983049      334281  413.383226  \n",
       "2022-08-25 04:00:00+00:00  414.0900  419.51   48816114      338000  416.816182  \n",
       "2022-08-26 04:00:00+00:00  405.2500  405.31  102743389      669874  410.796242  \n",
       "2022-08-29 04:00:00+00:00  401.1999  402.63   65225959      489086  403.552893  \n",
       "2022-08-30 04:00:00+00:00  396.0000  398.21   85326406      607506  399.084888  "
      ]
     },
     "metadata": {},
     "output_type": "display_data"
    }
   ],
   "source": [
    "# Use the Alpaca get_bars function to make the API call to get the 3 years worth of pricing data\n",
    "# The tickers and timeframe parameters should have been set in Part 1 of this activity \n",
    "# The start and end dates should be updated with the information set above\n",
    "# Remember to add the df property to the end of the call so the response is returned as a DataFrame\n",
    "pricing_alpaca_stocks = alpaca.get_bars(\n",
    "    tickers,\n",
    "    timeframe,\n",
    "    start_date,\n",
    "    end_date\n",
    ").df\n",
    "\n",
    "# Reorganize the DataFrame\n",
    "# Separate ticker data\n",
    "SPY = pricing_alpaca_stocks[pricing_alpaca_stocks[\"symbol\"]==\"SPY\"].drop(\"symbol\", axis=1)\n",
    "AGG = pricing_alpaca_stocks[pricing_alpaca_stocks[\"symbol\"]==\"SPY\"].drop(\"symbol\", axis=1)\n",
    "\n",
    "# Concatenate the ticker DataFrames\n",
    "pricing_alpaca_stocks = pd.concat([SPY, AGG], axis=1, keys=[\"SPY\", \"AGG\"])\n",
    "\n",
    "\n",
    "# Display both the first and last five rows of the DataFrame\n",
    "display(pricing_alpaca_stocks.head())\n",
    "display(pricing_alpaca_stocks.tail())\n"
   ]
  },
  {
   "cell_type": "markdown",
   "metadata": {},
   "source": [
    "#### Step 2: Run a Monte Carlo simulation of 500 samples and 30 years for the 60/40 portfolio, and then plot the results."
   ]
  },
  {
   "cell_type": "code",
   "execution_count": 47,
   "metadata": {},
   "outputs": [
    {
     "data": {
      "text/html": [
       "<div>\n",
       "<style scoped>\n",
       "    .dataframe tbody tr th:only-of-type {\n",
       "        vertical-align: middle;\n",
       "    }\n",
       "\n",
       "    .dataframe tbody tr th {\n",
       "        vertical-align: top;\n",
       "    }\n",
       "\n",
       "    .dataframe thead tr th {\n",
       "        text-align: left;\n",
       "    }\n",
       "\n",
       "    .dataframe thead tr:last-of-type th {\n",
       "        text-align: right;\n",
       "    }\n",
       "</style>\n",
       "<table border=\"1\" class=\"dataframe\">\n",
       "  <thead>\n",
       "    <tr>\n",
       "      <th></th>\n",
       "      <th colspan=\"8\" halign=\"left\">SPY</th>\n",
       "      <th colspan=\"8\" halign=\"left\">AGG</th>\n",
       "    </tr>\n",
       "    <tr>\n",
       "      <th></th>\n",
       "      <th>open</th>\n",
       "      <th>high</th>\n",
       "      <th>low</th>\n",
       "      <th>close</th>\n",
       "      <th>volume</th>\n",
       "      <th>trade_count</th>\n",
       "      <th>vwap</th>\n",
       "      <th>daily_return</th>\n",
       "      <th>open</th>\n",
       "      <th>high</th>\n",
       "      <th>low</th>\n",
       "      <th>close</th>\n",
       "      <th>volume</th>\n",
       "      <th>trade_count</th>\n",
       "      <th>vwap</th>\n",
       "      <th>daily_return</th>\n",
       "    </tr>\n",
       "    <tr>\n",
       "      <th>timestamp</th>\n",
       "      <th></th>\n",
       "      <th></th>\n",
       "      <th></th>\n",
       "      <th></th>\n",
       "      <th></th>\n",
       "      <th></th>\n",
       "      <th></th>\n",
       "      <th></th>\n",
       "      <th></th>\n",
       "      <th></th>\n",
       "      <th></th>\n",
       "      <th></th>\n",
       "      <th></th>\n",
       "      <th></th>\n",
       "      <th></th>\n",
       "      <th></th>\n",
       "    </tr>\n",
       "  </thead>\n",
       "  <tbody>\n",
       "    <tr>\n",
       "      <th>2022-08-24 04:00:00+00:00</th>\n",
       "      <td>412.1100</td>\n",
       "      <td>415.1101</td>\n",
       "      <td>411.3900</td>\n",
       "      <td>413.67</td>\n",
       "      <td>48983049</td>\n",
       "      <td>334281</td>\n",
       "      <td>413.383226</td>\n",
       "      <td>0.003201</td>\n",
       "      <td>412.1100</td>\n",
       "      <td>415.1101</td>\n",
       "      <td>411.3900</td>\n",
       "      <td>413.67</td>\n",
       "      <td>48983049</td>\n",
       "      <td>334281</td>\n",
       "      <td>413.383226</td>\n",
       "      <td>0.003201</td>\n",
       "    </tr>\n",
       "    <tr>\n",
       "      <th>2022-08-25 04:00:00+00:00</th>\n",
       "      <td>415.2301</td>\n",
       "      <td>419.5600</td>\n",
       "      <td>414.0900</td>\n",
       "      <td>419.51</td>\n",
       "      <td>48816114</td>\n",
       "      <td>338000</td>\n",
       "      <td>416.816182</td>\n",
       "      <td>0.014118</td>\n",
       "      <td>415.2301</td>\n",
       "      <td>419.5600</td>\n",
       "      <td>414.0900</td>\n",
       "      <td>419.51</td>\n",
       "      <td>48816114</td>\n",
       "      <td>338000</td>\n",
       "      <td>416.816182</td>\n",
       "      <td>0.014118</td>\n",
       "    </tr>\n",
       "    <tr>\n",
       "      <th>2022-08-26 04:00:00+00:00</th>\n",
       "      <td>419.3900</td>\n",
       "      <td>419.9600</td>\n",
       "      <td>405.2500</td>\n",
       "      <td>405.31</td>\n",
       "      <td>102743389</td>\n",
       "      <td>669874</td>\n",
       "      <td>410.796242</td>\n",
       "      <td>-0.033849</td>\n",
       "      <td>419.3900</td>\n",
       "      <td>419.9600</td>\n",
       "      <td>405.2500</td>\n",
       "      <td>405.31</td>\n",
       "      <td>102743389</td>\n",
       "      <td>669874</td>\n",
       "      <td>410.796242</td>\n",
       "      <td>-0.033849</td>\n",
       "    </tr>\n",
       "    <tr>\n",
       "      <th>2022-08-29 04:00:00+00:00</th>\n",
       "      <td>402.2000</td>\n",
       "      <td>405.8400</td>\n",
       "      <td>401.1999</td>\n",
       "      <td>402.63</td>\n",
       "      <td>65225959</td>\n",
       "      <td>489086</td>\n",
       "      <td>403.552893</td>\n",
       "      <td>-0.006612</td>\n",
       "      <td>402.2000</td>\n",
       "      <td>405.8400</td>\n",
       "      <td>401.1999</td>\n",
       "      <td>402.63</td>\n",
       "      <td>65225959</td>\n",
       "      <td>489086</td>\n",
       "      <td>403.552893</td>\n",
       "      <td>-0.006612</td>\n",
       "    </tr>\n",
       "    <tr>\n",
       "      <th>2022-08-30 04:00:00+00:00</th>\n",
       "      <td>403.8500</td>\n",
       "      <td>404.1000</td>\n",
       "      <td>396.0000</td>\n",
       "      <td>398.21</td>\n",
       "      <td>85326406</td>\n",
       "      <td>607506</td>\n",
       "      <td>399.084888</td>\n",
       "      <td>-0.010978</td>\n",
       "      <td>403.8500</td>\n",
       "      <td>404.1000</td>\n",
       "      <td>396.0000</td>\n",
       "      <td>398.21</td>\n",
       "      <td>85326406</td>\n",
       "      <td>607506</td>\n",
       "      <td>399.084888</td>\n",
       "      <td>-0.010978</td>\n",
       "    </tr>\n",
       "  </tbody>\n",
       "</table>\n",
       "</div>"
      ],
      "text/plain": [
       "                                SPY                                         \\\n",
       "                               open      high       low   close     volume   \n",
       "timestamp                                                                    \n",
       "2022-08-24 04:00:00+00:00  412.1100  415.1101  411.3900  413.67   48983049   \n",
       "2022-08-25 04:00:00+00:00  415.2301  419.5600  414.0900  419.51   48816114   \n",
       "2022-08-26 04:00:00+00:00  419.3900  419.9600  405.2500  405.31  102743389   \n",
       "2022-08-29 04:00:00+00:00  402.2000  405.8400  401.1999  402.63   65225959   \n",
       "2022-08-30 04:00:00+00:00  403.8500  404.1000  396.0000  398.21   85326406   \n",
       "\n",
       "                                                                     AGG  \\\n",
       "                          trade_count        vwap daily_return      open   \n",
       "timestamp                                                                  \n",
       "2022-08-24 04:00:00+00:00      334281  413.383226     0.003201  412.1100   \n",
       "2022-08-25 04:00:00+00:00      338000  416.816182     0.014118  415.2301   \n",
       "2022-08-26 04:00:00+00:00      669874  410.796242    -0.033849  419.3900   \n",
       "2022-08-29 04:00:00+00:00      489086  403.552893    -0.006612  402.2000   \n",
       "2022-08-30 04:00:00+00:00      607506  399.084888    -0.010978  403.8500   \n",
       "\n",
       "                                                                              \\\n",
       "                               high       low   close     volume trade_count   \n",
       "timestamp                                                                      \n",
       "2022-08-24 04:00:00+00:00  415.1101  411.3900  413.67   48983049      334281   \n",
       "2022-08-25 04:00:00+00:00  419.5600  414.0900  419.51   48816114      338000   \n",
       "2022-08-26 04:00:00+00:00  419.9600  405.2500  405.31  102743389      669874   \n",
       "2022-08-29 04:00:00+00:00  405.8400  401.1999  402.63   65225959      489086   \n",
       "2022-08-30 04:00:00+00:00  404.1000  396.0000  398.21   85326406      607506   \n",
       "\n",
       "                                                    \n",
       "                                 vwap daily_return  \n",
       "timestamp                                           \n",
       "2022-08-24 04:00:00+00:00  413.383226     0.003201  \n",
       "2022-08-25 04:00:00+00:00  416.816182     0.014118  \n",
       "2022-08-26 04:00:00+00:00  410.796242    -0.033849  \n",
       "2022-08-29 04:00:00+00:00  403.552893    -0.006612  \n",
       "2022-08-30 04:00:00+00:00  399.084888    -0.010978  "
      ]
     },
     "execution_count": 47,
     "metadata": {},
     "output_type": "execute_result"
    }
   ],
   "source": [
    "# Configure the Monte Carlo simulation to forecast 30 years cumulative returns\n",
    "# The weights should be split 40% to AGG and 60% to SPY.\n",
    "# Run 500 samples.\n",
    "MCsim_30years_stocks = MCSimulation(\n",
    "    portfolio_data=pricing_alpaca_stocks,\n",
    "    weights=[.60,.40],\n",
    "    num_simulation=500,\n",
    "    num_trading_days=252*30\n",
    ")\n",
    "\n",
    "# Review the simulation input data\n",
    "MCsim_30years_stocks.portfolio_data.tail()"
   ]
  },
  {
   "cell_type": "code",
   "execution_count": 49,
   "metadata": {},
   "outputs": [
    {
     "name": "stdout",
     "output_type": "stream",
     "text": [
      "Running Monte Carlo simulation number 0.\n",
      "Running Monte Carlo simulation number 10.\n",
      "Running Monte Carlo simulation number 20.\n",
      "Running Monte Carlo simulation number 30.\n",
      "Running Monte Carlo simulation number 40.\n",
      "Running Monte Carlo simulation number 50.\n",
      "Running Monte Carlo simulation number 60.\n",
      "Running Monte Carlo simulation number 70.\n",
      "Running Monte Carlo simulation number 80.\n",
      "Running Monte Carlo simulation number 90.\n",
      "Running Monte Carlo simulation number 100.\n",
      "Running Monte Carlo simulation number 110.\n",
      "Running Monte Carlo simulation number 120.\n",
      "Running Monte Carlo simulation number 130.\n",
      "Running Monte Carlo simulation number 140.\n",
      "Running Monte Carlo simulation number 150.\n",
      "Running Monte Carlo simulation number 160.\n",
      "Running Monte Carlo simulation number 170.\n",
      "Running Monte Carlo simulation number 180.\n",
      "Running Monte Carlo simulation number 190.\n",
      "Running Monte Carlo simulation number 200.\n",
      "Running Monte Carlo simulation number 210.\n",
      "Running Monte Carlo simulation number 220.\n",
      "Running Monte Carlo simulation number 230.\n",
      "Running Monte Carlo simulation number 240.\n",
      "Running Monte Carlo simulation number 250.\n",
      "Running Monte Carlo simulation number 260.\n",
      "Running Monte Carlo simulation number 270.\n",
      "Running Monte Carlo simulation number 280.\n",
      "Running Monte Carlo simulation number 290.\n",
      "Running Monte Carlo simulation number 300.\n",
      "Running Monte Carlo simulation number 310.\n",
      "Running Monte Carlo simulation number 320.\n",
      "Running Monte Carlo simulation number 330.\n",
      "Running Monte Carlo simulation number 340.\n",
      "Running Monte Carlo simulation number 350.\n",
      "Running Monte Carlo simulation number 360.\n",
      "Running Monte Carlo simulation number 370.\n",
      "Running Monte Carlo simulation number 380.\n",
      "Running Monte Carlo simulation number 390.\n",
      "Running Monte Carlo simulation number 400.\n",
      "Running Monte Carlo simulation number 410.\n",
      "Running Monte Carlo simulation number 420.\n",
      "Running Monte Carlo simulation number 430.\n",
      "Running Monte Carlo simulation number 440.\n",
      "Running Monte Carlo simulation number 450.\n",
      "Running Monte Carlo simulation number 460.\n",
      "Running Monte Carlo simulation number 470.\n",
      "Running Monte Carlo simulation number 480.\n",
      "Running Monte Carlo simulation number 490.\n"
     ]
    },
    {
     "data": {
      "text/html": [
       "<div>\n",
       "<style scoped>\n",
       "    .dataframe tbody tr th:only-of-type {\n",
       "        vertical-align: middle;\n",
       "    }\n",
       "\n",
       "    .dataframe tbody tr th {\n",
       "        vertical-align: top;\n",
       "    }\n",
       "\n",
       "    .dataframe thead th {\n",
       "        text-align: right;\n",
       "    }\n",
       "</style>\n",
       "<table border=\"1\" class=\"dataframe\">\n",
       "  <thead>\n",
       "    <tr style=\"text-align: right;\">\n",
       "      <th></th>\n",
       "      <th>0</th>\n",
       "      <th>1</th>\n",
       "      <th>2</th>\n",
       "      <th>3</th>\n",
       "      <th>4</th>\n",
       "      <th>5</th>\n",
       "      <th>6</th>\n",
       "      <th>7</th>\n",
       "      <th>8</th>\n",
       "      <th>9</th>\n",
       "      <th>...</th>\n",
       "      <th>490</th>\n",
       "      <th>491</th>\n",
       "      <th>492</th>\n",
       "      <th>493</th>\n",
       "      <th>494</th>\n",
       "      <th>495</th>\n",
       "      <th>496</th>\n",
       "      <th>497</th>\n",
       "      <th>498</th>\n",
       "      <th>499</th>\n",
       "    </tr>\n",
       "  </thead>\n",
       "  <tbody>\n",
       "    <tr>\n",
       "      <th>0</th>\n",
       "      <td>1.000000</td>\n",
       "      <td>1.000000</td>\n",
       "      <td>1.000000</td>\n",
       "      <td>1.000000</td>\n",
       "      <td>1.000000</td>\n",
       "      <td>1.000000</td>\n",
       "      <td>1.000000</td>\n",
       "      <td>1.000000</td>\n",
       "      <td>1.000000</td>\n",
       "      <td>1.000000</td>\n",
       "      <td>...</td>\n",
       "      <td>1.000000</td>\n",
       "      <td>1.000000</td>\n",
       "      <td>1.000000</td>\n",
       "      <td>1.000000</td>\n",
       "      <td>1.000000</td>\n",
       "      <td>1.000000</td>\n",
       "      <td>1.000000</td>\n",
       "      <td>1.000000</td>\n",
       "      <td>1.000000</td>\n",
       "      <td>1.000000</td>\n",
       "    </tr>\n",
       "    <tr>\n",
       "      <th>1</th>\n",
       "      <td>1.017359</td>\n",
       "      <td>0.977822</td>\n",
       "      <td>0.997790</td>\n",
       "      <td>0.987010</td>\n",
       "      <td>1.016752</td>\n",
       "      <td>1.022655</td>\n",
       "      <td>1.004345</td>\n",
       "      <td>1.010573</td>\n",
       "      <td>0.991318</td>\n",
       "      <td>1.007605</td>\n",
       "      <td>...</td>\n",
       "      <td>1.004880</td>\n",
       "      <td>0.995327</td>\n",
       "      <td>0.988436</td>\n",
       "      <td>0.984838</td>\n",
       "      <td>0.998718</td>\n",
       "      <td>1.015431</td>\n",
       "      <td>0.986901</td>\n",
       "      <td>1.013093</td>\n",
       "      <td>1.000115</td>\n",
       "      <td>1.008633</td>\n",
       "    </tr>\n",
       "    <tr>\n",
       "      <th>2</th>\n",
       "      <td>1.022374</td>\n",
       "      <td>0.973045</td>\n",
       "      <td>0.990526</td>\n",
       "      <td>0.977368</td>\n",
       "      <td>1.022145</td>\n",
       "      <td>1.023329</td>\n",
       "      <td>1.011625</td>\n",
       "      <td>1.011031</td>\n",
       "      <td>0.985842</td>\n",
       "      <td>1.026236</td>\n",
       "      <td>...</td>\n",
       "      <td>1.003642</td>\n",
       "      <td>0.996400</td>\n",
       "      <td>0.974145</td>\n",
       "      <td>0.998188</td>\n",
       "      <td>0.994535</td>\n",
       "      <td>1.020734</td>\n",
       "      <td>0.977820</td>\n",
       "      <td>1.020411</td>\n",
       "      <td>0.972609</td>\n",
       "      <td>1.019882</td>\n",
       "    </tr>\n",
       "    <tr>\n",
       "      <th>3</th>\n",
       "      <td>1.046212</td>\n",
       "      <td>0.967957</td>\n",
       "      <td>0.984580</td>\n",
       "      <td>0.976513</td>\n",
       "      <td>1.007813</td>\n",
       "      <td>1.029999</td>\n",
       "      <td>1.013788</td>\n",
       "      <td>1.018409</td>\n",
       "      <td>0.999631</td>\n",
       "      <td>1.025480</td>\n",
       "      <td>...</td>\n",
       "      <td>1.006506</td>\n",
       "      <td>1.007848</td>\n",
       "      <td>0.981591</td>\n",
       "      <td>1.002603</td>\n",
       "      <td>0.994084</td>\n",
       "      <td>1.021428</td>\n",
       "      <td>0.979225</td>\n",
       "      <td>1.009902</td>\n",
       "      <td>0.978050</td>\n",
       "      <td>1.021280</td>\n",
       "    </tr>\n",
       "    <tr>\n",
       "      <th>4</th>\n",
       "      <td>1.036818</td>\n",
       "      <td>0.960895</td>\n",
       "      <td>0.971223</td>\n",
       "      <td>0.967186</td>\n",
       "      <td>1.003996</td>\n",
       "      <td>1.001257</td>\n",
       "      <td>1.012102</td>\n",
       "      <td>1.028883</td>\n",
       "      <td>0.998901</td>\n",
       "      <td>1.040673</td>\n",
       "      <td>...</td>\n",
       "      <td>0.998793</td>\n",
       "      <td>0.998752</td>\n",
       "      <td>0.973165</td>\n",
       "      <td>0.995064</td>\n",
       "      <td>1.006893</td>\n",
       "      <td>1.030208</td>\n",
       "      <td>0.991016</td>\n",
       "      <td>1.013636</td>\n",
       "      <td>0.972627</td>\n",
       "      <td>1.013058</td>\n",
       "    </tr>\n",
       "    <tr>\n",
       "      <th>...</th>\n",
       "      <td>...</td>\n",
       "      <td>...</td>\n",
       "      <td>...</td>\n",
       "      <td>...</td>\n",
       "      <td>...</td>\n",
       "      <td>...</td>\n",
       "      <td>...</td>\n",
       "      <td>...</td>\n",
       "      <td>...</td>\n",
       "      <td>...</td>\n",
       "      <td>...</td>\n",
       "      <td>...</td>\n",
       "      <td>...</td>\n",
       "      <td>...</td>\n",
       "      <td>...</td>\n",
       "      <td>...</td>\n",
       "      <td>...</td>\n",
       "      <td>...</td>\n",
       "      <td>...</td>\n",
       "      <td>...</td>\n",
       "      <td>...</td>\n",
       "    </tr>\n",
       "    <tr>\n",
       "      <th>7556</th>\n",
       "      <td>26.976466</td>\n",
       "      <td>4.625852</td>\n",
       "      <td>22.071182</td>\n",
       "      <td>254.941632</td>\n",
       "      <td>14.296262</td>\n",
       "      <td>78.399926</td>\n",
       "      <td>84.500395</td>\n",
       "      <td>47.533459</td>\n",
       "      <td>6.697386</td>\n",
       "      <td>9.332631</td>\n",
       "      <td>...</td>\n",
       "      <td>63.668567</td>\n",
       "      <td>7.691883</td>\n",
       "      <td>104.742927</td>\n",
       "      <td>109.666669</td>\n",
       "      <td>175.104315</td>\n",
       "      <td>20.599738</td>\n",
       "      <td>174.327477</td>\n",
       "      <td>57.375093</td>\n",
       "      <td>76.617556</td>\n",
       "      <td>116.058803</td>\n",
       "    </tr>\n",
       "    <tr>\n",
       "      <th>7557</th>\n",
       "      <td>27.408750</td>\n",
       "      <td>4.578006</td>\n",
       "      <td>22.008024</td>\n",
       "      <td>254.425184</td>\n",
       "      <td>14.298573</td>\n",
       "      <td>79.732970</td>\n",
       "      <td>86.261387</td>\n",
       "      <td>48.249123</td>\n",
       "      <td>6.744050</td>\n",
       "      <td>9.312914</td>\n",
       "      <td>...</td>\n",
       "      <td>63.201875</td>\n",
       "      <td>7.700356</td>\n",
       "      <td>104.415187</td>\n",
       "      <td>109.097543</td>\n",
       "      <td>171.017353</td>\n",
       "      <td>20.682478</td>\n",
       "      <td>178.630859</td>\n",
       "      <td>57.194280</td>\n",
       "      <td>77.345981</td>\n",
       "      <td>115.847681</td>\n",
       "    </tr>\n",
       "    <tr>\n",
       "      <th>7558</th>\n",
       "      <td>27.082055</td>\n",
       "      <td>4.637476</td>\n",
       "      <td>22.034308</td>\n",
       "      <td>254.457890</td>\n",
       "      <td>14.376522</td>\n",
       "      <td>80.533792</td>\n",
       "      <td>86.664396</td>\n",
       "      <td>47.466120</td>\n",
       "      <td>6.792278</td>\n",
       "      <td>9.244952</td>\n",
       "      <td>...</td>\n",
       "      <td>61.725314</td>\n",
       "      <td>7.725471</td>\n",
       "      <td>103.763091</td>\n",
       "      <td>106.285911</td>\n",
       "      <td>173.703447</td>\n",
       "      <td>20.653946</td>\n",
       "      <td>174.386291</td>\n",
       "      <td>57.499165</td>\n",
       "      <td>77.013100</td>\n",
       "      <td>115.003911</td>\n",
       "    </tr>\n",
       "    <tr>\n",
       "      <th>7559</th>\n",
       "      <td>26.671353</td>\n",
       "      <td>4.710237</td>\n",
       "      <td>21.611363</td>\n",
       "      <td>252.034690</td>\n",
       "      <td>14.617995</td>\n",
       "      <td>79.680884</td>\n",
       "      <td>86.441973</td>\n",
       "      <td>48.492537</td>\n",
       "      <td>6.965180</td>\n",
       "      <td>9.247562</td>\n",
       "      <td>...</td>\n",
       "      <td>61.144784</td>\n",
       "      <td>7.754230</td>\n",
       "      <td>103.700844</td>\n",
       "      <td>108.201880</td>\n",
       "      <td>173.491670</td>\n",
       "      <td>20.531388</td>\n",
       "      <td>176.174636</td>\n",
       "      <td>57.782000</td>\n",
       "      <td>76.734376</td>\n",
       "      <td>114.629955</td>\n",
       "    </tr>\n",
       "    <tr>\n",
       "      <th>7560</th>\n",
       "      <td>26.911556</td>\n",
       "      <td>4.709544</td>\n",
       "      <td>21.996275</td>\n",
       "      <td>249.512885</td>\n",
       "      <td>14.400204</td>\n",
       "      <td>81.012729</td>\n",
       "      <td>85.472042</td>\n",
       "      <td>49.082449</td>\n",
       "      <td>6.893663</td>\n",
       "      <td>9.245479</td>\n",
       "      <td>...</td>\n",
       "      <td>61.048428</td>\n",
       "      <td>7.685146</td>\n",
       "      <td>103.604947</td>\n",
       "      <td>107.138851</td>\n",
       "      <td>170.896789</td>\n",
       "      <td>20.768139</td>\n",
       "      <td>179.289375</td>\n",
       "      <td>57.576538</td>\n",
       "      <td>76.480941</td>\n",
       "      <td>114.391726</td>\n",
       "    </tr>\n",
       "  </tbody>\n",
       "</table>\n",
       "<p>7561 rows × 500 columns</p>\n",
       "</div>"
      ],
      "text/plain": [
       "            0         1          2           3          4          5    \\\n",
       "0      1.000000  1.000000   1.000000    1.000000   1.000000   1.000000   \n",
       "1      1.017359  0.977822   0.997790    0.987010   1.016752   1.022655   \n",
       "2      1.022374  0.973045   0.990526    0.977368   1.022145   1.023329   \n",
       "3      1.046212  0.967957   0.984580    0.976513   1.007813   1.029999   \n",
       "4      1.036818  0.960895   0.971223    0.967186   1.003996   1.001257   \n",
       "...         ...       ...        ...         ...        ...        ...   \n",
       "7556  26.976466  4.625852  22.071182  254.941632  14.296262  78.399926   \n",
       "7557  27.408750  4.578006  22.008024  254.425184  14.298573  79.732970   \n",
       "7558  27.082055  4.637476  22.034308  254.457890  14.376522  80.533792   \n",
       "7559  26.671353  4.710237  21.611363  252.034690  14.617995  79.680884   \n",
       "7560  26.911556  4.709544  21.996275  249.512885  14.400204  81.012729   \n",
       "\n",
       "            6          7         8         9    ...        490       491  \\\n",
       "0      1.000000   1.000000  1.000000  1.000000  ...   1.000000  1.000000   \n",
       "1      1.004345   1.010573  0.991318  1.007605  ...   1.004880  0.995327   \n",
       "2      1.011625   1.011031  0.985842  1.026236  ...   1.003642  0.996400   \n",
       "3      1.013788   1.018409  0.999631  1.025480  ...   1.006506  1.007848   \n",
       "4      1.012102   1.028883  0.998901  1.040673  ...   0.998793  0.998752   \n",
       "...         ...        ...       ...       ...  ...        ...       ...   \n",
       "7556  84.500395  47.533459  6.697386  9.332631  ...  63.668567  7.691883   \n",
       "7557  86.261387  48.249123  6.744050  9.312914  ...  63.201875  7.700356   \n",
       "7558  86.664396  47.466120  6.792278  9.244952  ...  61.725314  7.725471   \n",
       "7559  86.441973  48.492537  6.965180  9.247562  ...  61.144784  7.754230   \n",
       "7560  85.472042  49.082449  6.893663  9.245479  ...  61.048428  7.685146   \n",
       "\n",
       "             492         493         494        495         496        497  \\\n",
       "0       1.000000    1.000000    1.000000   1.000000    1.000000   1.000000   \n",
       "1       0.988436    0.984838    0.998718   1.015431    0.986901   1.013093   \n",
       "2       0.974145    0.998188    0.994535   1.020734    0.977820   1.020411   \n",
       "3       0.981591    1.002603    0.994084   1.021428    0.979225   1.009902   \n",
       "4       0.973165    0.995064    1.006893   1.030208    0.991016   1.013636   \n",
       "...          ...         ...         ...        ...         ...        ...   \n",
       "7556  104.742927  109.666669  175.104315  20.599738  174.327477  57.375093   \n",
       "7557  104.415187  109.097543  171.017353  20.682478  178.630859  57.194280   \n",
       "7558  103.763091  106.285911  173.703447  20.653946  174.386291  57.499165   \n",
       "7559  103.700844  108.201880  173.491670  20.531388  176.174636  57.782000   \n",
       "7560  103.604947  107.138851  170.896789  20.768139  179.289375  57.576538   \n",
       "\n",
       "            498         499  \n",
       "0      1.000000    1.000000  \n",
       "1      1.000115    1.008633  \n",
       "2      0.972609    1.019882  \n",
       "3      0.978050    1.021280  \n",
       "4      0.972627    1.013058  \n",
       "...         ...         ...  \n",
       "7556  76.617556  116.058803  \n",
       "7557  77.345981  115.847681  \n",
       "7558  77.013100  115.003911  \n",
       "7559  76.734376  114.629955  \n",
       "7560  76.480941  114.391726  \n",
       "\n",
       "[7561 rows x 500 columns]"
      ]
     },
     "execution_count": 49,
     "metadata": {},
     "output_type": "execute_result"
    }
   ],
   "source": [
    "# Run the Monte Carlo simulation to forecast 30 years cumulative returns\n",
    "import warnings\n",
    "warnings.filterwarnings('ignore')\n",
    "MCsim_30years_stocks.calc_cumulative_return()\n"
   ]
  },
  {
   "cell_type": "code",
   "execution_count": 54,
   "metadata": {},
   "outputs": [
    {
     "data": {
      "text/plain": [
       "<AxesSubplot:title={'center':'500 Simulations of Cumulative Portfolio Return Trajectories Over the Next 7560 Trading Days.'}>"
      ]
     },
     "execution_count": 54,
     "metadata": {},
     "output_type": "execute_result"
    },
    {
     "data": {
      "image/png": "[encoded data removed]",
      "text/plain": [
       "<Figure size 432x288 with 1 Axes>"
      ]
     },
     "metadata": {
      "needs_background": "light"
     },
     "output_type": "display_data"
    }
   ],
   "source": [
    "# Visualize the 30-year Monte Carlo simulation by creating an\n",
    "# overlay line plot\n",
    "mc_30_sim = MCsim_30years_stocks.plot_simulation()\n",
    "mc_30_sim\n"
   ]
  },
  {
   "cell_type": "markdown",
   "metadata": {},
   "source": [
    "#### Step 3: Plot the probability distribution of the Monte Carlo simulation."
   ]
  },
  {
   "cell_type": "code",
   "execution_count": 55,
   "metadata": {},
   "outputs": [
    {
     "data": {
      "text/plain": [
       "<AxesSubplot:title={'center':'Distribution of Final Cumuluative Returns Across All 500 Simulations'}, ylabel='Frequency'>"
      ]
     },
     "execution_count": 55,
     "metadata": {},
     "output_type": "execute_result"
    },
    {
     "data": {
      "image/png": "[encoded data removed]",
      "text/plain": [
       "<Figure size 432x288 with 1 Axes>"
      ]
     },
     "metadata": {
      "needs_background": "light"
     },
     "output_type": "display_data"
    }
   ],
   "source": [
    "# Visualize the probability distribution of the 30-year Monte Carlo simulation \n",
    "# by plotting a histogram\n",
    "mc_30_dist = MCsim_30years_stocks.plot_distribution()\n",
    "mc_30_dist\n"
   ]
  },
  {
   "cell_type": "markdown",
   "metadata": {},
   "source": [
    "#### Step 4: Generate the summary statistics for the Monte Carlo simulation."
   ]
  },
  {
   "cell_type": "code",
   "execution_count": 56,
   "metadata": {},
   "outputs": [
    {
     "data": {
      "text/plain": [
       "count           500.000000\n",
       "mean             53.408873\n",
       "std              61.338520\n",
       "min               1.830531\n",
       "25%              18.928563\n",
       "50%              34.339029\n",
       "75%              62.032096\n",
       "max             619.281960\n",
       "95% CI Lower      7.154578\n",
       "95% CI Upper    188.059770\n",
       "Name: 7560, dtype: float64"
      ]
     },
     "execution_count": 56,
     "metadata": {},
     "output_type": "execute_result"
    }
   ],
   "source": [
    "# Generate summary statistics from the 30-year Monte Carlo simulation results\n",
    "# Save the results as a variable\n",
    "MCsim_30year_summary = MCsim_30years_stocks.summarize_cumulative_return()\n",
    "MCsim_30year_summary"
   ]
  },
  {
   "cell_type": "markdown",
   "metadata": {},
   "source": [
    "### Analyze the Retirement Portfolio Forecasts\n",
    "\n",
    "Using the current value of only the stock and bond portion of the member's portfolio and the summary statistics that you generated from the Monte Carlo simulation, answer the following question in your Jupyter notebook:\n",
    "\n",
    "-  What are the lower and upper bounds for the expected value of the portfolio with a 95% confidence interval?\n"
   ]
  },
  {
   "cell_type": "code",
   "execution_count": 57,
   "metadata": {},
   "outputs": [
    {
     "name": "stdout",
     "output_type": "stream",
     "text": [
      "balance of stocks and bond of the portfolio: $64513.3\n"
     ]
    }
   ],
   "source": [
    "# Print the current balance of the stock and bond portion of the members portfolio\n",
    "# YOUR CODE HERE\n",
    "print(f\"balance of stocks and bond of the portfolio: ${total_stocks_bonds}\")\n"
   ]
  },
  {
   "cell_type": "code",
   "execution_count": 58,
   "metadata": {},
   "outputs": [
    {
     "name": "stdout",
     "output_type": "stream",
     "text": [
      "CI lower 30 year cumulative return: $ 461565.46\n",
      "CI upper 30 year cumulative return: $ 12132356.36\n",
      "\n",
      "95% confidence interval calculation for 30 years is valued between $ {ci_lower_30_cumulative_return:.2f} and ${ci_upper_30_cumulative_return:.2f}\n"
     ]
    }
   ],
   "source": [
    "# Use the lower and upper `95%` confidence intervals to calculate the range of the possible outcomes for the current stock/bond portfolio\n",
    "ci_lower_30_cumulative_return = total_stocks_bonds*MCsim_30year_summary[8]\n",
    "ci_upper_30_cumulative_return = total_stocks_bonds*MCsim_30year_summary[9]\n",
    "\n",
    "print(f\"CI lower 30 year cumulative return: ${ci_lower_30_cumulative_return: .2f}\")\n",
    "print(f\"CI upper 30 year cumulative return: ${ci_upper_30_cumulative_return: .2f}\")\n",
    "print ()\n",
    "# Print the result of your calculations\n",
    "print(\"95% confidence interval calculation for 30 years is valued between $ {ci_lower_30_cumulative_return:.2f} and ${ci_upper_30_cumulative_return:.2f}\")\n"
   ]
  },
  {
   "cell_type": "markdown",
   "metadata": {},
   "source": [
    "### Forecast Cumulative Returns in 10 Years\n",
    "\n",
    "The CTO of the credit union is impressed with your work on these planning tools but wonders if 30 years is a long time to wait until retirement. So, your next task is to adjust the retirement portfolio and run a new Monte Carlo simulation to find out if the changes will allow members to retire earlier.\n",
    "\n",
    "For this new Monte Carlo simulation, do the following: \n",
    "\n",
    "- Forecast the cumulative returns for 10 years from now. Because of the shortened investment horizon (30 years to 10 years), the portfolio needs to invest more heavily in the riskier asset&mdash;that is, stock&mdash;to help accumulate wealth for retirement. \n",
    "\n",
    "- Adjust the weights of the retirement portfolio so that the composition for the Monte Carlo simulation consists of 20% bonds and 80% stocks. \n",
    "\n",
    "- Run the simulation over 500 samples, and use the same data that the API call to Alpaca generated.\n",
    "\n",
    "- Based on the new Monte Carlo simulation, answer the following questions in your Jupyter notebook:\n",
    "\n",
    "    - Using the current value of only the stock and bond portion of the member's portfolio and the summary statistics that you generated from the new Monte Carlo simulation, what are the lower and upper bounds for the expected value of the portfolio (with the new weights) with a 95% confidence interval?\n",
    "\n",
    "    - Will weighting the portfolio more heavily toward stocks allow the credit union members to retire after only 10 years?\n"
   ]
  },
  {
   "cell_type": "code",
   "execution_count": 59,
   "metadata": {},
   "outputs": [
    {
     "data": {
      "text/html": [
       "<div>\n",
       "<style scoped>\n",
       "    .dataframe tbody tr th:only-of-type {\n",
       "        vertical-align: middle;\n",
       "    }\n",
       "\n",
       "    .dataframe tbody tr th {\n",
       "        vertical-align: top;\n",
       "    }\n",
       "\n",
       "    .dataframe thead tr th {\n",
       "        text-align: left;\n",
       "    }\n",
       "\n",
       "    .dataframe thead tr:last-of-type th {\n",
       "        text-align: right;\n",
       "    }\n",
       "</style>\n",
       "<table border=\"1\" class=\"dataframe\">\n",
       "  <thead>\n",
       "    <tr>\n",
       "      <th></th>\n",
       "      <th colspan=\"8\" halign=\"left\">SPY</th>\n",
       "      <th colspan=\"8\" halign=\"left\">AGG</th>\n",
       "    </tr>\n",
       "    <tr>\n",
       "      <th></th>\n",
       "      <th>open</th>\n",
       "      <th>high</th>\n",
       "      <th>low</th>\n",
       "      <th>close</th>\n",
       "      <th>volume</th>\n",
       "      <th>trade_count</th>\n",
       "      <th>vwap</th>\n",
       "      <th>daily_return</th>\n",
       "      <th>open</th>\n",
       "      <th>high</th>\n",
       "      <th>low</th>\n",
       "      <th>close</th>\n",
       "      <th>volume</th>\n",
       "      <th>trade_count</th>\n",
       "      <th>vwap</th>\n",
       "      <th>daily_return</th>\n",
       "    </tr>\n",
       "    <tr>\n",
       "      <th>timestamp</th>\n",
       "      <th></th>\n",
       "      <th></th>\n",
       "      <th></th>\n",
       "      <th></th>\n",
       "      <th></th>\n",
       "      <th></th>\n",
       "      <th></th>\n",
       "      <th></th>\n",
       "      <th></th>\n",
       "      <th></th>\n",
       "      <th></th>\n",
       "      <th></th>\n",
       "      <th></th>\n",
       "      <th></th>\n",
       "      <th></th>\n",
       "      <th></th>\n",
       "    </tr>\n",
       "  </thead>\n",
       "  <tbody>\n",
       "    <tr>\n",
       "      <th>2019-08-30 04:00:00+00:00</th>\n",
       "      <td>294.22</td>\n",
       "      <td>294.2399</td>\n",
       "      <td>291.420</td>\n",
       "      <td>292.4527</td>\n",
       "      <td>63024780</td>\n",
       "      <td>303476</td>\n",
       "      <td>292.713824</td>\n",
       "      <td>NaN</td>\n",
       "      <td>294.22</td>\n",
       "      <td>294.2399</td>\n",
       "      <td>291.420</td>\n",
       "      <td>292.4527</td>\n",
       "      <td>63024780</td>\n",
       "      <td>303476</td>\n",
       "      <td>292.713824</td>\n",
       "      <td>NaN</td>\n",
       "    </tr>\n",
       "    <tr>\n",
       "      <th>2019-09-03 04:00:00+00:00</th>\n",
       "      <td>290.57</td>\n",
       "      <td>291.5800</td>\n",
       "      <td>289.270</td>\n",
       "      <td>290.7500</td>\n",
       "      <td>69233875</td>\n",
       "      <td>362212</td>\n",
       "      <td>290.492676</td>\n",
       "      <td>-0.005822</td>\n",
       "      <td>290.57</td>\n",
       "      <td>291.5800</td>\n",
       "      <td>289.270</td>\n",
       "      <td>290.7500</td>\n",
       "      <td>69233875</td>\n",
       "      <td>362212</td>\n",
       "      <td>290.492676</td>\n",
       "      <td>-0.005822</td>\n",
       "    </tr>\n",
       "    <tr>\n",
       "      <th>2019-09-04 04:00:00+00:00</th>\n",
       "      <td>293.14</td>\n",
       "      <td>294.0550</td>\n",
       "      <td>292.310</td>\n",
       "      <td>293.9700</td>\n",
       "      <td>47160461</td>\n",
       "      <td>236850</td>\n",
       "      <td>293.322384</td>\n",
       "      <td>0.011075</td>\n",
       "      <td>293.14</td>\n",
       "      <td>294.0550</td>\n",
       "      <td>292.310</td>\n",
       "      <td>293.9700</td>\n",
       "      <td>47160461</td>\n",
       "      <td>236850</td>\n",
       "      <td>293.322384</td>\n",
       "      <td>0.011075</td>\n",
       "    </tr>\n",
       "    <tr>\n",
       "      <th>2019-09-05 04:00:00+00:00</th>\n",
       "      <td>296.79</td>\n",
       "      <td>298.8300</td>\n",
       "      <td>294.001</td>\n",
       "      <td>297.7500</td>\n",
       "      <td>83356779</td>\n",
       "      <td>377089</td>\n",
       "      <td>297.528062</td>\n",
       "      <td>0.012858</td>\n",
       "      <td>296.79</td>\n",
       "      <td>298.8300</td>\n",
       "      <td>294.001</td>\n",
       "      <td>297.7500</td>\n",
       "      <td>83356779</td>\n",
       "      <td>377089</td>\n",
       "      <td>297.528062</td>\n",
       "      <td>0.012858</td>\n",
       "    </tr>\n",
       "    <tr>\n",
       "      <th>2019-09-06 04:00:00+00:00</th>\n",
       "      <td>298.17</td>\n",
       "      <td>298.7600</td>\n",
       "      <td>297.420</td>\n",
       "      <td>298.0500</td>\n",
       "      <td>49676444</td>\n",
       "      <td>255431</td>\n",
       "      <td>298.223331</td>\n",
       "      <td>0.001008</td>\n",
       "      <td>298.17</td>\n",
       "      <td>298.7600</td>\n",
       "      <td>297.420</td>\n",
       "      <td>298.0500</td>\n",
       "      <td>49676444</td>\n",
       "      <td>255431</td>\n",
       "      <td>298.223331</td>\n",
       "      <td>0.001008</td>\n",
       "    </tr>\n",
       "  </tbody>\n",
       "</table>\n",
       "</div>"
      ],
      "text/plain": [
       "                              SPY                                         \\\n",
       "                             open      high      low     close    volume   \n",
       "timestamp                                                                  \n",
       "2019-08-30 04:00:00+00:00  294.22  294.2399  291.420  292.4527  63024780   \n",
       "2019-09-03 04:00:00+00:00  290.57  291.5800  289.270  290.7500  69233875   \n",
       "2019-09-04 04:00:00+00:00  293.14  294.0550  292.310  293.9700  47160461   \n",
       "2019-09-05 04:00:00+00:00  296.79  298.8300  294.001  297.7500  83356779   \n",
       "2019-09-06 04:00:00+00:00  298.17  298.7600  297.420  298.0500  49676444   \n",
       "\n",
       "                                                                   AGG  \\\n",
       "                          trade_count        vwap daily_return    open   \n",
       "timestamp                                                                \n",
       "2019-08-30 04:00:00+00:00      303476  292.713824          NaN  294.22   \n",
       "2019-09-03 04:00:00+00:00      362212  290.492676    -0.005822  290.57   \n",
       "2019-09-04 04:00:00+00:00      236850  293.322384     0.011075  293.14   \n",
       "2019-09-05 04:00:00+00:00      377089  297.528062     0.012858  296.79   \n",
       "2019-09-06 04:00:00+00:00      255431  298.223331     0.001008  298.17   \n",
       "\n",
       "                                                                              \\\n",
       "                               high      low     close    volume trade_count   \n",
       "timestamp                                                                      \n",
       "2019-08-30 04:00:00+00:00  294.2399  291.420  292.4527  63024780      303476   \n",
       "2019-09-03 04:00:00+00:00  291.5800  289.270  290.7500  69233875      362212   \n",
       "2019-09-04 04:00:00+00:00  294.0550  292.310  293.9700  47160461      236850   \n",
       "2019-09-05 04:00:00+00:00  298.8300  294.001  297.7500  83356779      377089   \n",
       "2019-09-06 04:00:00+00:00  298.7600  297.420  298.0500  49676444      255431   \n",
       "\n",
       "                                                    \n",
       "                                 vwap daily_return  \n",
       "timestamp                                           \n",
       "2019-08-30 04:00:00+00:00  292.713824          NaN  \n",
       "2019-09-03 04:00:00+00:00  290.492676    -0.005822  \n",
       "2019-09-04 04:00:00+00:00  293.322384     0.011075  \n",
       "2019-09-05 04:00:00+00:00  297.528062     0.012858  \n",
       "2019-09-06 04:00:00+00:00  298.223331     0.001008  "
      ]
     },
     "execution_count": 59,
     "metadata": {},
     "output_type": "execute_result"
    }
   ],
   "source": [
    "# Configure a Monte Carlo simulation to forecast 10 years cumulative returns\n",
    "# The weights should be split 20% to AGG and 80% to SPY.\n",
    "MCsim_10year = MCSimulation(\n",
    "    portfolio_data=pricing_alpaca_stocks,\n",
    "    weights=[0.8, 0.2],\n",
    "    num_simulation=500,\n",
    "    num_trading_days=252*10\n",
    ")\n",
    "\n",
    "# Review the simulation input data\n",
    "MCsim_10year.portfolio_data.head()\n"
   ]
  },
  {
   "cell_type": "code",
   "execution_count": 60,
   "metadata": {},
   "outputs": [
    {
     "name": "stdout",
     "output_type": "stream",
     "text": [
      "Running Monte Carlo simulation number 0.\n",
      "Running Monte Carlo simulation number 10.\n",
      "Running Monte Carlo simulation number 20.\n",
      "Running Monte Carlo simulation number 30.\n",
      "Running Monte Carlo simulation number 40.\n",
      "Running Monte Carlo simulation number 50.\n",
      "Running Monte Carlo simulation number 60.\n",
      "Running Monte Carlo simulation number 70.\n",
      "Running Monte Carlo simulation number 80.\n",
      "Running Monte Carlo simulation number 90.\n",
      "Running Monte Carlo simulation number 100.\n",
      "Running Monte Carlo simulation number 110.\n",
      "Running Monte Carlo simulation number 120.\n",
      "Running Monte Carlo simulation number 130.\n",
      "Running Monte Carlo simulation number 140.\n",
      "Running Monte Carlo simulation number 150.\n",
      "Running Monte Carlo simulation number 160.\n",
      "Running Monte Carlo simulation number 170.\n",
      "Running Monte Carlo simulation number 180.\n",
      "Running Monte Carlo simulation number 190.\n",
      "Running Monte Carlo simulation number 200.\n",
      "Running Monte Carlo simulation number 210.\n",
      "Running Monte Carlo simulation number 220.\n",
      "Running Monte Carlo simulation number 230.\n",
      "Running Monte Carlo simulation number 240.\n",
      "Running Monte Carlo simulation number 250.\n",
      "Running Monte Carlo simulation number 260.\n",
      "Running Monte Carlo simulation number 270.\n",
      "Running Monte Carlo simulation number 280.\n",
      "Running Monte Carlo simulation number 290.\n",
      "Running Monte Carlo simulation number 300.\n",
      "Running Monte Carlo simulation number 310.\n",
      "Running Monte Carlo simulation number 320.\n",
      "Running Monte Carlo simulation number 330.\n",
      "Running Monte Carlo simulation number 340.\n",
      "Running Monte Carlo simulation number 350.\n",
      "Running Monte Carlo simulation number 360.\n",
      "Running Monte Carlo simulation number 370.\n",
      "Running Monte Carlo simulation number 380.\n",
      "Running Monte Carlo simulation number 390.\n",
      "Running Monte Carlo simulation number 400.\n",
      "Running Monte Carlo simulation number 410.\n",
      "Running Monte Carlo simulation number 420.\n",
      "Running Monte Carlo simulation number 430.\n",
      "Running Monte Carlo simulation number 440.\n",
      "Running Monte Carlo simulation number 450.\n",
      "Running Monte Carlo simulation number 460.\n",
      "Running Monte Carlo simulation number 470.\n",
      "Running Monte Carlo simulation number 480.\n",
      "Running Monte Carlo simulation number 490.\n"
     ]
    },
    {
     "data": {
      "text/html": [
       "<div>\n",
       "<style scoped>\n",
       "    .dataframe tbody tr th:only-of-type {\n",
       "        vertical-align: middle;\n",
       "    }\n",
       "\n",
       "    .dataframe tbody tr th {\n",
       "        vertical-align: top;\n",
       "    }\n",
       "\n",
       "    .dataframe thead th {\n",
       "        text-align: right;\n",
       "    }\n",
       "</style>\n",
       "<table border=\"1\" class=\"dataframe\">\n",
       "  <thead>\n",
       "    <tr style=\"text-align: right;\">\n",
       "      <th></th>\n",
       "      <th>0</th>\n",
       "      <th>1</th>\n",
       "      <th>2</th>\n",
       "      <th>3</th>\n",
       "      <th>4</th>\n",
       "      <th>5</th>\n",
       "      <th>6</th>\n",
       "      <th>7</th>\n",
       "      <th>8</th>\n",
       "      <th>9</th>\n",
       "      <th>...</th>\n",
       "      <th>490</th>\n",
       "      <th>491</th>\n",
       "      <th>492</th>\n",
       "      <th>493</th>\n",
       "      <th>494</th>\n",
       "      <th>495</th>\n",
       "      <th>496</th>\n",
       "      <th>497</th>\n",
       "      <th>498</th>\n",
       "      <th>499</th>\n",
       "    </tr>\n",
       "  </thead>\n",
       "  <tbody>\n",
       "    <tr>\n",
       "      <th>0</th>\n",
       "      <td>1.000000</td>\n",
       "      <td>1.000000</td>\n",
       "      <td>1.000000</td>\n",
       "      <td>1.000000</td>\n",
       "      <td>1.000000</td>\n",
       "      <td>1.000000</td>\n",
       "      <td>1.000000</td>\n",
       "      <td>1.000000</td>\n",
       "      <td>1.000000</td>\n",
       "      <td>1.000000</td>\n",
       "      <td>...</td>\n",
       "      <td>1.000000</td>\n",
       "      <td>1.000000</td>\n",
       "      <td>1.000000</td>\n",
       "      <td>1.000000</td>\n",
       "      <td>1.000000</td>\n",
       "      <td>1.000000</td>\n",
       "      <td>1.000000</td>\n",
       "      <td>1.000000</td>\n",
       "      <td>1.000000</td>\n",
       "      <td>1.000000</td>\n",
       "    </tr>\n",
       "    <tr>\n",
       "      <th>1</th>\n",
       "      <td>0.975344</td>\n",
       "      <td>1.033642</td>\n",
       "      <td>1.008032</td>\n",
       "      <td>0.993751</td>\n",
       "      <td>0.987482</td>\n",
       "      <td>0.997502</td>\n",
       "      <td>1.005193</td>\n",
       "      <td>1.008469</td>\n",
       "      <td>0.999390</td>\n",
       "      <td>0.986605</td>\n",
       "      <td>...</td>\n",
       "      <td>1.008598</td>\n",
       "      <td>1.000545</td>\n",
       "      <td>0.989928</td>\n",
       "      <td>0.999030</td>\n",
       "      <td>1.006539</td>\n",
       "      <td>1.007385</td>\n",
       "      <td>1.000273</td>\n",
       "      <td>1.022729</td>\n",
       "      <td>1.000945</td>\n",
       "      <td>1.014975</td>\n",
       "    </tr>\n",
       "    <tr>\n",
       "      <th>2</th>\n",
       "      <td>0.980903</td>\n",
       "      <td>1.045779</td>\n",
       "      <td>1.017578</td>\n",
       "      <td>0.986451</td>\n",
       "      <td>0.959890</td>\n",
       "      <td>0.984228</td>\n",
       "      <td>0.990758</td>\n",
       "      <td>1.027045</td>\n",
       "      <td>1.004929</td>\n",
       "      <td>0.998923</td>\n",
       "      <td>...</td>\n",
       "      <td>1.018802</td>\n",
       "      <td>0.988543</td>\n",
       "      <td>0.983406</td>\n",
       "      <td>1.016435</td>\n",
       "      <td>1.014333</td>\n",
       "      <td>1.028883</td>\n",
       "      <td>1.015154</td>\n",
       "      <td>1.016804</td>\n",
       "      <td>1.004588</td>\n",
       "      <td>1.031038</td>\n",
       "    </tr>\n",
       "    <tr>\n",
       "      <th>3</th>\n",
       "      <td>0.975260</td>\n",
       "      <td>1.038473</td>\n",
       "      <td>1.012344</td>\n",
       "      <td>0.976719</td>\n",
       "      <td>0.992217</td>\n",
       "      <td>0.986480</td>\n",
       "      <td>0.985326</td>\n",
       "      <td>1.009648</td>\n",
       "      <td>1.006192</td>\n",
       "      <td>1.016479</td>\n",
       "      <td>...</td>\n",
       "      <td>1.025785</td>\n",
       "      <td>0.994787</td>\n",
       "      <td>1.004241</td>\n",
       "      <td>1.012480</td>\n",
       "      <td>1.008656</td>\n",
       "      <td>1.030262</td>\n",
       "      <td>1.016239</td>\n",
       "      <td>1.027366</td>\n",
       "      <td>1.006975</td>\n",
       "      <td>1.055413</td>\n",
       "    </tr>\n",
       "    <tr>\n",
       "      <th>4</th>\n",
       "      <td>0.986085</td>\n",
       "      <td>1.040012</td>\n",
       "      <td>1.011875</td>\n",
       "      <td>0.966558</td>\n",
       "      <td>1.005934</td>\n",
       "      <td>1.003844</td>\n",
       "      <td>0.993877</td>\n",
       "      <td>0.997389</td>\n",
       "      <td>1.006840</td>\n",
       "      <td>1.025843</td>\n",
       "      <td>...</td>\n",
       "      <td>1.014625</td>\n",
       "      <td>1.017092</td>\n",
       "      <td>1.023074</td>\n",
       "      <td>0.994690</td>\n",
       "      <td>1.012288</td>\n",
       "      <td>1.032933</td>\n",
       "      <td>1.009243</td>\n",
       "      <td>1.024568</td>\n",
       "      <td>1.014994</td>\n",
       "      <td>1.053754</td>\n",
       "    </tr>\n",
       "    <tr>\n",
       "      <th>...</th>\n",
       "      <td>...</td>\n",
       "      <td>...</td>\n",
       "      <td>...</td>\n",
       "      <td>...</td>\n",
       "      <td>...</td>\n",
       "      <td>...</td>\n",
       "      <td>...</td>\n",
       "      <td>...</td>\n",
       "      <td>...</td>\n",
       "      <td>...</td>\n",
       "      <td>...</td>\n",
       "      <td>...</td>\n",
       "      <td>...</td>\n",
       "      <td>...</td>\n",
       "      <td>...</td>\n",
       "      <td>...</td>\n",
       "      <td>...</td>\n",
       "      <td>...</td>\n",
       "      <td>...</td>\n",
       "      <td>...</td>\n",
       "      <td>...</td>\n",
       "    </tr>\n",
       "    <tr>\n",
       "      <th>2516</th>\n",
       "      <td>2.893291</td>\n",
       "      <td>5.533894</td>\n",
       "      <td>3.294047</td>\n",
       "      <td>5.998671</td>\n",
       "      <td>0.949521</td>\n",
       "      <td>0.989268</td>\n",
       "      <td>3.667312</td>\n",
       "      <td>3.152386</td>\n",
       "      <td>1.992659</td>\n",
       "      <td>1.858086</td>\n",
       "      <td>...</td>\n",
       "      <td>1.917957</td>\n",
       "      <td>1.092107</td>\n",
       "      <td>1.229282</td>\n",
       "      <td>3.187195</td>\n",
       "      <td>4.326968</td>\n",
       "      <td>1.199767</td>\n",
       "      <td>2.193075</td>\n",
       "      <td>5.895744</td>\n",
       "      <td>1.488052</td>\n",
       "      <td>1.237399</td>\n",
       "    </tr>\n",
       "    <tr>\n",
       "      <th>2517</th>\n",
       "      <td>2.862730</td>\n",
       "      <td>5.524093</td>\n",
       "      <td>3.272923</td>\n",
       "      <td>6.063988</td>\n",
       "      <td>0.950309</td>\n",
       "      <td>0.987534</td>\n",
       "      <td>3.600381</td>\n",
       "      <td>3.152893</td>\n",
       "      <td>1.980821</td>\n",
       "      <td>1.811314</td>\n",
       "      <td>...</td>\n",
       "      <td>1.906067</td>\n",
       "      <td>1.071980</td>\n",
       "      <td>1.235690</td>\n",
       "      <td>3.245493</td>\n",
       "      <td>4.320832</td>\n",
       "      <td>1.202002</td>\n",
       "      <td>2.190958</td>\n",
       "      <td>5.913127</td>\n",
       "      <td>1.484007</td>\n",
       "      <td>1.239273</td>\n",
       "    </tr>\n",
       "    <tr>\n",
       "      <th>2518</th>\n",
       "      <td>2.908538</td>\n",
       "      <td>5.458464</td>\n",
       "      <td>3.314009</td>\n",
       "      <td>6.049876</td>\n",
       "      <td>0.955686</td>\n",
       "      <td>0.986234</td>\n",
       "      <td>3.631567</td>\n",
       "      <td>3.147001</td>\n",
       "      <td>1.980146</td>\n",
       "      <td>1.773557</td>\n",
       "      <td>...</td>\n",
       "      <td>1.884252</td>\n",
       "      <td>1.067171</td>\n",
       "      <td>1.262946</td>\n",
       "      <td>3.270870</td>\n",
       "      <td>4.305906</td>\n",
       "      <td>1.208454</td>\n",
       "      <td>2.167110</td>\n",
       "      <td>6.059036</td>\n",
       "      <td>1.465817</td>\n",
       "      <td>1.241159</td>\n",
       "    </tr>\n",
       "    <tr>\n",
       "      <th>2519</th>\n",
       "      <td>2.933775</td>\n",
       "      <td>5.439151</td>\n",
       "      <td>3.248747</td>\n",
       "      <td>6.099316</td>\n",
       "      <td>0.926907</td>\n",
       "      <td>1.002343</td>\n",
       "      <td>3.572360</td>\n",
       "      <td>3.186738</td>\n",
       "      <td>1.992221</td>\n",
       "      <td>1.748775</td>\n",
       "      <td>...</td>\n",
       "      <td>1.911535</td>\n",
       "      <td>1.060387</td>\n",
       "      <td>1.277705</td>\n",
       "      <td>3.264609</td>\n",
       "      <td>4.292025</td>\n",
       "      <td>1.214728</td>\n",
       "      <td>2.154062</td>\n",
       "      <td>6.021434</td>\n",
       "      <td>1.473125</td>\n",
       "      <td>1.250875</td>\n",
       "    </tr>\n",
       "    <tr>\n",
       "      <th>2520</th>\n",
       "      <td>2.904664</td>\n",
       "      <td>5.462456</td>\n",
       "      <td>3.291347</td>\n",
       "      <td>6.027077</td>\n",
       "      <td>0.938058</td>\n",
       "      <td>0.979268</td>\n",
       "      <td>3.620161</td>\n",
       "      <td>3.144139</td>\n",
       "      <td>1.973180</td>\n",
       "      <td>1.751353</td>\n",
       "      <td>...</td>\n",
       "      <td>1.908705</td>\n",
       "      <td>1.049107</td>\n",
       "      <td>1.264131</td>\n",
       "      <td>3.324514</td>\n",
       "      <td>4.239235</td>\n",
       "      <td>1.206967</td>\n",
       "      <td>2.147541</td>\n",
       "      <td>6.022006</td>\n",
       "      <td>1.472366</td>\n",
       "      <td>1.247677</td>\n",
       "    </tr>\n",
       "  </tbody>\n",
       "</table>\n",
       "<p>2521 rows × 500 columns</p>\n",
       "</div>"
      ],
      "text/plain": [
       "           0         1         2         3         4         5         6    \\\n",
       "0     1.000000  1.000000  1.000000  1.000000  1.000000  1.000000  1.000000   \n",
       "1     0.975344  1.033642  1.008032  0.993751  0.987482  0.997502  1.005193   \n",
       "2     0.980903  1.045779  1.017578  0.986451  0.959890  0.984228  0.990758   \n",
       "3     0.975260  1.038473  1.012344  0.976719  0.992217  0.986480  0.985326   \n",
       "4     0.986085  1.040012  1.011875  0.966558  1.005934  1.003844  0.993877   \n",
       "...        ...       ...       ...       ...       ...       ...       ...   \n",
       "2516  2.893291  5.533894  3.294047  5.998671  0.949521  0.989268  3.667312   \n",
       "2517  2.862730  5.524093  3.272923  6.063988  0.950309  0.987534  3.600381   \n",
       "2518  2.908538  5.458464  3.314009  6.049876  0.955686  0.986234  3.631567   \n",
       "2519  2.933775  5.439151  3.248747  6.099316  0.926907  1.002343  3.572360   \n",
       "2520  2.904664  5.462456  3.291347  6.027077  0.938058  0.979268  3.620161   \n",
       "\n",
       "           7         8         9    ...       490       491       492  \\\n",
       "0     1.000000  1.000000  1.000000  ...  1.000000  1.000000  1.000000   \n",
       "1     1.008469  0.999390  0.986605  ...  1.008598  1.000545  0.989928   \n",
       "2     1.027045  1.004929  0.998923  ...  1.018802  0.988543  0.983406   \n",
       "3     1.009648  1.006192  1.016479  ...  1.025785  0.994787  1.004241   \n",
       "4     0.997389  1.006840  1.025843  ...  1.014625  1.017092  1.023074   \n",
       "...        ...       ...       ...  ...       ...       ...       ...   \n",
       "2516  3.152386  1.992659  1.858086  ...  1.917957  1.092107  1.229282   \n",
       "2517  3.152893  1.980821  1.811314  ...  1.906067  1.071980  1.235690   \n",
       "2518  3.147001  1.980146  1.773557  ...  1.884252  1.067171  1.262946   \n",
       "2519  3.186738  1.992221  1.748775  ...  1.911535  1.060387  1.277705   \n",
       "2520  3.144139  1.973180  1.751353  ...  1.908705  1.049107  1.264131   \n",
       "\n",
       "           493       494       495       496       497       498       499  \n",
       "0     1.000000  1.000000  1.000000  1.000000  1.000000  1.000000  1.000000  \n",
       "1     0.999030  1.006539  1.007385  1.000273  1.022729  1.000945  1.014975  \n",
       "2     1.016435  1.014333  1.028883  1.015154  1.016804  1.004588  1.031038  \n",
       "3     1.012480  1.008656  1.030262  1.016239  1.027366  1.006975  1.055413  \n",
       "4     0.994690  1.012288  1.032933  1.009243  1.024568  1.014994  1.053754  \n",
       "...        ...       ...       ...       ...       ...       ...       ...  \n",
       "2516  3.187195  4.326968  1.199767  2.193075  5.895744  1.488052  1.237399  \n",
       "2517  3.245493  4.320832  1.202002  2.190958  5.913127  1.484007  1.239273  \n",
       "2518  3.270870  4.305906  1.208454  2.167110  6.059036  1.465817  1.241159  \n",
       "2519  3.264609  4.292025  1.214728  2.154062  6.021434  1.473125  1.250875  \n",
       "2520  3.324514  4.239235  1.206967  2.147541  6.022006  1.472366  1.247677  \n",
       "\n",
       "[2521 rows x 500 columns]"
      ]
     },
     "execution_count": 60,
     "metadata": {},
     "output_type": "execute_result"
    }
   ],
   "source": [
    "# Run the Monte Carlo simulation to forecast 10 years cumulative returns\n",
    "MCsim_10year_cum = MCsim_10year.calc_cumulative_return()\n",
    "MCsim_10year_cum\n"
   ]
  },
  {
   "cell_type": "code",
   "execution_count": 61,
   "metadata": {},
   "outputs": [
    {
     "data": {
      "text/plain": [
       "<AxesSubplot:title={'center':'500 Simulations of Cumulative Portfolio Return Trajectories Over the Next 2520 Trading Days.'}>"
      ]
     },
     "execution_count": 61,
     "metadata": {},
     "output_type": "execute_result"
    },
    {
     "data": {
      "image/png": "[encoded data removed]",
      "text/plain": [
       "<Figure size 432x288 with 1 Axes>"
      ]
     },
     "metadata": {
      "needs_background": "light"
     },
     "output_type": "display_data"
    }
   ],
   "source": [
    "# Visualize the 10-year Monte Carlo simulation by creating an\n",
    "MCsim_10year_plot = MCsim_10year.plot_simulation()\n",
    "MCsim_10year_plot\n"
   ]
  },
  {
   "cell_type": "code",
   "execution_count": 62,
   "metadata": {},
   "outputs": [
    {
     "data": {
      "text/plain": [
       "<AxesSubplot:title={'center':'Distribution of Final Cumuluative Returns Across All 500 Simulations'}, ylabel='Frequency'>"
      ]
     },
     "execution_count": 62,
     "metadata": {},
     "output_type": "execute_result"
    },
    {
     "data": {
      "image/png": "[encoded data removed]",
      "text/plain": [
       "<Figure size 432x288 with 1 Axes>"
      ]
     },
     "metadata": {
      "needs_background": "light"
     },
     "output_type": "display_data"
    }
   ],
   "source": [
    "# Visualize the probability distribution of the 10-year Monte Carlo simulation \n",
    "# by plotting a histogram\n",
    "MCsim_10year_dist = MCsim_10year.plot_distribution()\n",
    "MCsim_10year_dist"
   ]
  },
  {
   "cell_type": "code",
   "execution_count": 63,
   "metadata": {},
   "outputs": [
    {
     "data": {
      "text/plain": [
       "count           500.000000\n",
       "mean              3.598957\n",
       "std               2.386991\n",
       "min               0.456860\n",
       "25%               1.983475\n",
       "50%               3.048096\n",
       "75%               4.687122\n",
       "max              18.925812\n",
       "95% CI Lower      0.926933\n",
       "95% CI Upper      9.089544\n",
       "Name: 2520, dtype: float64"
      ]
     },
     "execution_count": 63,
     "metadata": {},
     "output_type": "execute_result"
    }
   ],
   "source": [
    "# Generate summary statistics from the 10-year Monte Carlo simulation results\n",
    "# Save the results as a variable\n",
    "MCsim_10year_summary = MCsim_10year.summarize_cumulative_return()\n",
    "\n",
    "\n",
    "# Review the 10-year Monte Carlo summary statistics\n",
    "MCsim_10year_summary\n"
   ]
  },
  {
   "cell_type": "markdown",
   "metadata": {},
   "source": [
    "### Answer the following questions:"
   ]
  },
  {
   "cell_type": "markdown",
   "metadata": {},
   "source": [
    "#### Question: Using the current value of only the stock and bond portion of the member's portfolio and the summary statistics that you generated from the new Monte Carlo simulation, what are the lower and upper bounds for the expected value of the portfolio (with the new weights) with a 95% confidence interval?"
   ]
  },
  {
   "cell_type": "code",
   "execution_count": 64,
   "metadata": {},
   "outputs": [
    {
     "name": "stdout",
     "output_type": "stream",
     "text": [
      " stock and bond portfolio values: $91143.95\n"
     ]
    }
   ],
   "source": [
    "# Print the current balance of the stock and bond portion of the members portfolio\n",
    "print(f\" stock and bond portfolio values: ${total_portfolio:.2f}\")\n"
   ]
  },
  {
   "cell_type": "code",
   "execution_count": 67,
   "metadata": {},
   "outputs": [
    {
     "name": "stdout",
     "output_type": "stream",
     "text": [
      "CI lower 10 year cumulative return $  84484.31\n",
      "CI upper 10 year cumulative return $  828456.94\n",
      "\n",
      "A 10 year Monte Carlo Simulation investing 80% of your stock/funds in SPY and %20 in AGG.\n",
      "your porfolio will be valued between $ 828456.94 and $ 84484.31\n"
     ]
    }
   ],
   "source": [
    "# Use the lower and upper `95%` confidence intervals to calculate the range of the possible outcomes for the current stock/bond portfolio\n",
    "ci_lower_10_cumulative_return = total_portfolio * MCsim_10year_summary[8]\n",
    "ci_upper_10_cumulative_return = total_portfolio * MCsim_10year_summary[9]\n",
    "\n",
    "print(f\"CI lower 10 year cumulative return $ {ci_lower_10_cumulative_return: .2f}\")\n",
    "print(f\"CI upper 10 year cumulative return $ {ci_upper_10_cumulative_return: .2f}\")\n",
    "print()\n",
    "# Print the result of your calculations\n",
    "print(\"A 10 year Monte Carlo Simulation investing 80% of your stock/funds in SPY and %20 in AGG.\")\n",
    "print(f\"your porfolio will be valued between ${ci_upper_10_cumulative_return: .2f} and ${ci_lower_10_cumulative_return: .2f}\")\n",
    "\n"
   ]
  },
  {
   "cell_type": "markdown",
   "metadata": {},
   "source": [
    "#### Question: Will weighting the portfolio more heavily to stocks allow the credit union members to retire after only 10 years?"
   ]
  },
  {
   "cell_type": "markdown",
   "metadata": {},
   "source": [
    "**Answer** # no, they arent going to be able to retire in ten years.Investing in thirty years will yield higher returns than ten years "
   ]
  },
  {
   "cell_type": "code",
   "execution_count": 71,
   "metadata": {},
   "outputs": [
    {
     "name": "stdout",
     "output_type": "stream",
     "text": [
      "CI lower 10 year cumulative return: $  84484.31\n",
      "CI lower 30 year cumulative return: $ 461565.46\n",
      "\n",
      "Investing 30 years vs. 10 years and within a the lower confidence interval\n",
      "$ 377081.16\n",
      "\n",
      "\n",
      "CI upper 10 year cumulative return: $  828456.94\n",
      "CI upper 30 year cumulative return: $ 12132356.36\n",
      "\n",
      "Investing 30 years vs. 10 years and within a the upper confidence interval\n",
      "$ 11303899.41\n"
     ]
    }
   ],
   "source": [
    "print(f\"CI lower 10 year cumulative return: $ {ci_lower_10_cumulative_return: .2f}\")\n",
    "print(f\"CI lower 30 year cumulative return: ${ci_lower_30_cumulative_return: .2f}\")\n",
    "ci_lower_10_30_difference = ci_lower_30_cumulative_return - ci_lower_10_cumulative_return\n",
    "print ()\n",
    "print(\"Investing 30 years vs. 10 years and within a the lower confidence interval\")\n",
    "print(f\"${ci_lower_10_30_difference: .2f}\")\n",
    "print()\n",
    "print()\n",
    "print(f\"CI upper 10 year cumulative return: $ {ci_upper_10_cumulative_return: .2f}\")\n",
    "print(f\"CI upper 30 year cumulative return: ${ci_upper_30_cumulative_return: .2f}\")\n",
    "ci_upper_10_30_difference = ci_upper_30_cumulative_return - ci_upper_10_cumulative_return\n",
    "print ()\n",
    "print(\"Investing 30 years vs. 10 years and within a the upper confidence interval\")\n",
    "print(f\"${ci_upper_10_30_difference: .2f}\")"
   ]
  },
  {
   "cell_type": "code",
   "execution_count": 72,
   "metadata": {},
   "outputs": [
    {
     "name": "stdout",
     "output_type": "stream",
     "text": [
      "In the best case scenario 30 years yields higher cumulative returns even based on differences between higher and lower confidence intervals\n"
     ]
    }
   ],
   "source": [
    "print(f\"In the best case scenario 30 years yields higher cumulative returns even based on differences between higher and lower confidence intervals\")"
   ]
  },
  {
   "cell_type": "code",
   "execution_count": null,
   "metadata": {},
   "outputs": [],
   "source": []
  }
 ],
 "metadata": {
  "kernelspec": {
   "display_name": "Python 3 (ipykernel)",
   "language": "python",
   "name": "python3"
  },
  "language_info": {
   "codemirror_mode": {
    "name": "ipython",
    "version": 3
   },
   "file_extension": ".py",
   "mimetype": "text/x-python",
   "name": "python",
   "nbconvert_exporter": "python",
   "pygments_lexer": "ipython3",
   "version": "3.9.12"
  }
 },
 "nbformat": 4,
 "nbformat_minor": 4
}
